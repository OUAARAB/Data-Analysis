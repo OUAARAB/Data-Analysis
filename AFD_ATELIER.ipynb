{
 "cells": [
  {
   "cell_type": "markdown",
   "metadata": {
    "id": "rBdKkhsmi0cX"
   },
   "source": [
    "**Cette atelier a pour objectif de présenter rapidement les principales fonctionnalités offertes par\n",
    "le package « scientisttools » pour réaliser une Analyse Factorielle Discriminante ou Analyse\n",
    "Discriminante Descriptive.**\n"
   ]
  },
  {
   "cell_type": "markdown",
   "metadata": {
    "id": "vBu71k9wjOq_"
   },
   "source": [
    "\n",
    "\n",
    "*  Présentation des données\n",
    "\n",
    "\n"
   ]
  },
  {
   "cell_type": "code",
   "execution_count": null,
   "metadata": {
    "id": "_F22YYXzTIJ3"
   },
   "outputs": [],
   "source": [
    "import pandas as pd\n",
    "import numpy as np\n",
    "from scientisttools.utils import eta2\n",
    "from scientisttools.discriminant_analysis import CANDISC\n",
    "from scientisttools.extractfactor import get_eig\n",
    "from scientisttools.extractfactor import summaryCANDISC"
   ]
  },
  {
   "cell_type": "markdown",
   "metadata": {
    "id": "6jWt97a-zHm5"
   },
   "source": [
    "A travers l’exemple des Vins de Bordeaux. On cherche à relier la qualité des\n",
    "vins de Bordeaux à des caractéristiques météorologiques.\n",
    "La variable à expliquer y est la qualité du vin et prend 3 modalités : 1 = bon, 2 = moyen et 3= médiocre. Les variables explicatives de la qualité du vin sont les suivantes :\n",
    "\n",
    "\n",
    "*   X1 (Somme des températures moyennes journalières (°C))\n",
    "*   X2 (Durée d’insolation (h))\n",
    "*   X3 (Nombre de jours de grande chaleur)\n",
    "*   X4 (Hauteur des pluies (mm))\n",
    "\n",
    "\n",
    "\n",
    "\n",
    "\n"
   ]
  },
  {
   "cell_type": "code",
   "execution_count": null,
   "metadata": {
    "colab": {
     "base_uri": "https://localhost:8080/",
     "height": 206
    },
    "id": "nOM1pZ_SA7Qk",
    "outputId": "2a37f03b-4212-4d00-efc4-4f2b412365a5"
   },
   "outputs": [
    {
     "data": {
      "text/html": [
       "\n",
       "  <div id=\"df-5bac4e8f-a835-4d39-b73a-4d2d75c70724\" class=\"colab-df-container\">\n",
       "    <div>\n",
       "<style scoped>\n",
       "    .dataframe tbody tr th:only-of-type {\n",
       "        vertical-align: middle;\n",
       "    }\n",
       "\n",
       "    .dataframe tbody tr th {\n",
       "        vertical-align: top;\n",
       "    }\n",
       "\n",
       "    .dataframe thead th {\n",
       "        text-align: right;\n",
       "    }\n",
       "</style>\n",
       "<table border=\"1\" class=\"dataframe\">\n",
       "  <thead>\n",
       "    <tr style=\"text-align: right;\">\n",
       "      <th></th>\n",
       "      <th>Obs.</th>\n",
       "      <th>Annee</th>\n",
       "      <th>Temperature</th>\n",
       "      <th>Soleil</th>\n",
       "      <th>Chaleur</th>\n",
       "      <th>Pluie</th>\n",
       "      <th>Qualite</th>\n",
       "    </tr>\n",
       "  </thead>\n",
       "  <tbody>\n",
       "    <tr>\n",
       "      <th>0</th>\n",
       "      <td>1</td>\n",
       "      <td>1924</td>\n",
       "      <td>3064</td>\n",
       "      <td>1201</td>\n",
       "      <td>10</td>\n",
       "      <td>361</td>\n",
       "      <td>Moyen</td>\n",
       "    </tr>\n",
       "    <tr>\n",
       "      <th>1</th>\n",
       "      <td>2</td>\n",
       "      <td>1925</td>\n",
       "      <td>3000</td>\n",
       "      <td>1053</td>\n",
       "      <td>11</td>\n",
       "      <td>338</td>\n",
       "      <td>Mediocre</td>\n",
       "    </tr>\n",
       "    <tr>\n",
       "      <th>2</th>\n",
       "      <td>3</td>\n",
       "      <td>1926</td>\n",
       "      <td>3155</td>\n",
       "      <td>1133</td>\n",
       "      <td>19</td>\n",
       "      <td>393</td>\n",
       "      <td>Moyen</td>\n",
       "    </tr>\n",
       "    <tr>\n",
       "      <th>3</th>\n",
       "      <td>4</td>\n",
       "      <td>1927</td>\n",
       "      <td>3085</td>\n",
       "      <td>970</td>\n",
       "      <td>4</td>\n",
       "      <td>467</td>\n",
       "      <td>Mediocre</td>\n",
       "    </tr>\n",
       "    <tr>\n",
       "      <th>4</th>\n",
       "      <td>5</td>\n",
       "      <td>1928</td>\n",
       "      <td>3245</td>\n",
       "      <td>1258</td>\n",
       "      <td>36</td>\n",
       "      <td>294</td>\n",
       "      <td>Bon</td>\n",
       "    </tr>\n",
       "  </tbody>\n",
       "</table>\n",
       "</div>\n",
       "    <div class=\"colab-df-buttons\">\n",
       "\n",
       "  <div class=\"colab-df-container\">\n",
       "    <button class=\"colab-df-convert\" onclick=\"convertToInteractive('df-5bac4e8f-a835-4d39-b73a-4d2d75c70724')\"\n",
       "            title=\"Convert this dataframe to an interactive table.\"\n",
       "            style=\"display:none;\">\n",
       "\n",
       "  <svg xmlns=\"http://www.w3.org/2000/svg\" height=\"24px\" viewBox=\"0 -960 960 960\">\n",
       "    <path d=\"M120-120v-720h720v720H120Zm60-500h600v-160H180v160Zm220 220h160v-160H400v160Zm0 220h160v-160H400v160ZM180-400h160v-160H180v160Zm440 0h160v-160H620v160ZM180-180h160v-160H180v160Zm440 0h160v-160H620v160Z\"/>\n",
       "  </svg>\n",
       "    </button>\n",
       "\n",
       "  <style>\n",
       "    .colab-df-container {\n",
       "      display:flex;\n",
       "      gap: 12px;\n",
       "    }\n",
       "\n",
       "    .colab-df-convert {\n",
       "      background-color: #E8F0FE;\n",
       "      border: none;\n",
       "      border-radius: 50%;\n",
       "      cursor: pointer;\n",
       "      display: none;\n",
       "      fill: #1967D2;\n",
       "      height: 32px;\n",
       "      padding: 0 0 0 0;\n",
       "      width: 32px;\n",
       "    }\n",
       "\n",
       "    .colab-df-convert:hover {\n",
       "      background-color: #E2EBFA;\n",
       "      box-shadow: 0px 1px 2px rgba(60, 64, 67, 0.3), 0px 1px 3px 1px rgba(60, 64, 67, 0.15);\n",
       "      fill: #174EA6;\n",
       "    }\n",
       "\n",
       "    .colab-df-buttons div {\n",
       "      margin-bottom: 4px;\n",
       "    }\n",
       "\n",
       "    [theme=dark] .colab-df-convert {\n",
       "      background-color: #3B4455;\n",
       "      fill: #D2E3FC;\n",
       "    }\n",
       "\n",
       "    [theme=dark] .colab-df-convert:hover {\n",
       "      background-color: #434B5C;\n",
       "      box-shadow: 0px 1px 3px 1px rgba(0, 0, 0, 0.15);\n",
       "      filter: drop-shadow(0px 1px 2px rgba(0, 0, 0, 0.3));\n",
       "      fill: #FFFFFF;\n",
       "    }\n",
       "  </style>\n",
       "\n",
       "    <script>\n",
       "      const buttonEl =\n",
       "        document.querySelector('#df-5bac4e8f-a835-4d39-b73a-4d2d75c70724 button.colab-df-convert');\n",
       "      buttonEl.style.display =\n",
       "        google.colab.kernel.accessAllowed ? 'block' : 'none';\n",
       "\n",
       "      async function convertToInteractive(key) {\n",
       "        const element = document.querySelector('#df-5bac4e8f-a835-4d39-b73a-4d2d75c70724');\n",
       "        const dataTable =\n",
       "          await google.colab.kernel.invokeFunction('convertToInteractive',\n",
       "                                                    [key], {});\n",
       "        if (!dataTable) return;\n",
       "\n",
       "        const docLinkHtml = 'Like what you see? Visit the ' +\n",
       "          '<a target=\"_blank\" href=https://colab.research.google.com/notebooks/data_table.ipynb>data table notebook</a>'\n",
       "          + ' to learn more about interactive tables.';\n",
       "        element.innerHTML = '';\n",
       "        dataTable['output_type'] = 'display_data';\n",
       "        await google.colab.output.renderOutput(dataTable, element);\n",
       "        const docLink = document.createElement('div');\n",
       "        docLink.innerHTML = docLinkHtml;\n",
       "        element.appendChild(docLink);\n",
       "      }\n",
       "    </script>\n",
       "  </div>\n",
       "\n",
       "\n",
       "<div id=\"df-8ad3aa90-2a2a-4de7-8da8-472aa27abc23\">\n",
       "  <button class=\"colab-df-quickchart\" onclick=\"quickchart('df-8ad3aa90-2a2a-4de7-8da8-472aa27abc23')\"\n",
       "            title=\"Suggest charts\"\n",
       "            style=\"display:none;\">\n",
       "\n",
       "<svg xmlns=\"http://www.w3.org/2000/svg\" height=\"24px\"viewBox=\"0 0 24 24\"\n",
       "     width=\"24px\">\n",
       "    <g>\n",
       "        <path d=\"M19 3H5c-1.1 0-2 .9-2 2v14c0 1.1.9 2 2 2h14c1.1 0 2-.9 2-2V5c0-1.1-.9-2-2-2zM9 17H7v-7h2v7zm4 0h-2V7h2v10zm4 0h-2v-4h2v4z\"/>\n",
       "    </g>\n",
       "</svg>\n",
       "  </button>\n",
       "\n",
       "<style>\n",
       "  .colab-df-quickchart {\n",
       "      --bg-color: #E8F0FE;\n",
       "      --fill-color: #1967D2;\n",
       "      --hover-bg-color: #E2EBFA;\n",
       "      --hover-fill-color: #174EA6;\n",
       "      --disabled-fill-color: #AAA;\n",
       "      --disabled-bg-color: #DDD;\n",
       "  }\n",
       "\n",
       "  [theme=dark] .colab-df-quickchart {\n",
       "      --bg-color: #3B4455;\n",
       "      --fill-color: #D2E3FC;\n",
       "      --hover-bg-color: #434B5C;\n",
       "      --hover-fill-color: #FFFFFF;\n",
       "      --disabled-bg-color: #3B4455;\n",
       "      --disabled-fill-color: #666;\n",
       "  }\n",
       "\n",
       "  .colab-df-quickchart {\n",
       "    background-color: var(--bg-color);\n",
       "    border: none;\n",
       "    border-radius: 50%;\n",
       "    cursor: pointer;\n",
       "    display: none;\n",
       "    fill: var(--fill-color);\n",
       "    height: 32px;\n",
       "    padding: 0;\n",
       "    width: 32px;\n",
       "  }\n",
       "\n",
       "  .colab-df-quickchart:hover {\n",
       "    background-color: var(--hover-bg-color);\n",
       "    box-shadow: 0 1px 2px rgba(60, 64, 67, 0.3), 0 1px 3px 1px rgba(60, 64, 67, 0.15);\n",
       "    fill: var(--button-hover-fill-color);\n",
       "  }\n",
       "\n",
       "  .colab-df-quickchart-complete:disabled,\n",
       "  .colab-df-quickchart-complete:disabled:hover {\n",
       "    background-color: var(--disabled-bg-color);\n",
       "    fill: var(--disabled-fill-color);\n",
       "    box-shadow: none;\n",
       "  }\n",
       "\n",
       "  .colab-df-spinner {\n",
       "    border: 2px solid var(--fill-color);\n",
       "    border-color: transparent;\n",
       "    border-bottom-color: var(--fill-color);\n",
       "    animation:\n",
       "      spin 1s steps(1) infinite;\n",
       "  }\n",
       "\n",
       "  @keyframes spin {\n",
       "    0% {\n",
       "      border-color: transparent;\n",
       "      border-bottom-color: var(--fill-color);\n",
       "      border-left-color: var(--fill-color);\n",
       "    }\n",
       "    20% {\n",
       "      border-color: transparent;\n",
       "      border-left-color: var(--fill-color);\n",
       "      border-top-color: var(--fill-color);\n",
       "    }\n",
       "    30% {\n",
       "      border-color: transparent;\n",
       "      border-left-color: var(--fill-color);\n",
       "      border-top-color: var(--fill-color);\n",
       "      border-right-color: var(--fill-color);\n",
       "    }\n",
       "    40% {\n",
       "      border-color: transparent;\n",
       "      border-right-color: var(--fill-color);\n",
       "      border-top-color: var(--fill-color);\n",
       "    }\n",
       "    60% {\n",
       "      border-color: transparent;\n",
       "      border-right-color: var(--fill-color);\n",
       "    }\n",
       "    80% {\n",
       "      border-color: transparent;\n",
       "      border-right-color: var(--fill-color);\n",
       "      border-bottom-color: var(--fill-color);\n",
       "    }\n",
       "    90% {\n",
       "      border-color: transparent;\n",
       "      border-bottom-color: var(--fill-color);\n",
       "    }\n",
       "  }\n",
       "</style>\n",
       "\n",
       "  <script>\n",
       "    async function quickchart(key) {\n",
       "      const quickchartButtonEl =\n",
       "        document.querySelector('#' + key + ' button');\n",
       "      quickchartButtonEl.disabled = true;  // To prevent multiple clicks.\n",
       "      quickchartButtonEl.classList.add('colab-df-spinner');\n",
       "      try {\n",
       "        const charts = await google.colab.kernel.invokeFunction(\n",
       "            'suggestCharts', [key], {});\n",
       "      } catch (error) {\n",
       "        console.error('Error during call to suggestCharts:', error);\n",
       "      }\n",
       "      quickchartButtonEl.classList.remove('colab-df-spinner');\n",
       "      quickchartButtonEl.classList.add('colab-df-quickchart-complete');\n",
       "    }\n",
       "    (() => {\n",
       "      let quickchartButtonEl =\n",
       "        document.querySelector('#df-8ad3aa90-2a2a-4de7-8da8-472aa27abc23 button');\n",
       "      quickchartButtonEl.style.display =\n",
       "        google.colab.kernel.accessAllowed ? 'block' : 'none';\n",
       "    })();\n",
       "  </script>\n",
       "</div>\n",
       "\n",
       "    </div>\n",
       "  </div>\n"
      ],
      "text/plain": [
       "   Obs.  Annee  Temperature  Soleil  Chaleur  Pluie   Qualite\n",
       "0     1   1924         3064    1201       10    361     Moyen\n",
       "1     2   1925         3000    1053       11    338  Mediocre\n",
       "2     3   1926         3155    1133       19    393     Moyen\n",
       "3     4   1927         3085     970        4    467  Mediocre\n",
       "4     5   1928         3245    1258       36    294       Bon"
      ]
     },
     "execution_count": 62,
     "metadata": {},
     "output_type": "execute_result"
    }
   ],
   "source": [
    "data = pd.read_excel(\"/content/sample_data/wine_quality.xls\")\n",
    "data.head()"
   ]
  },
  {
   "cell_type": "markdown",
   "metadata": {
    "id": "JPWlJzC_0ras"
   },
   "source": [
    "Pour la suite, nous allons supprimer la colonne « Obs » de notre jeu de données."
   ]
  },
  {
   "cell_type": "code",
   "execution_count": null,
   "metadata": {
    "colab": {
     "base_uri": "https://localhost:8080/",
     "height": 206
    },
    "id": "F9L-pkh3Fb4R",
    "outputId": "782ab967-67d0-4d76-b8b1-629913a3d7e2"
   },
   "outputs": [
    {
     "data": {
      "text/html": [
       "\n",
       "  <div id=\"df-d8691063-13c6-4a16-aea8-7a0e84544820\" class=\"colab-df-container\">\n",
       "    <div>\n",
       "<style scoped>\n",
       "    .dataframe tbody tr th:only-of-type {\n",
       "        vertical-align: middle;\n",
       "    }\n",
       "\n",
       "    .dataframe tbody tr th {\n",
       "        vertical-align: top;\n",
       "    }\n",
       "\n",
       "    .dataframe thead th {\n",
       "        text-align: right;\n",
       "    }\n",
       "</style>\n",
       "<table border=\"1\" class=\"dataframe\">\n",
       "  <thead>\n",
       "    <tr style=\"text-align: right;\">\n",
       "      <th></th>\n",
       "      <th>Annee</th>\n",
       "      <th>Temperature</th>\n",
       "      <th>Soleil</th>\n",
       "      <th>Chaleur</th>\n",
       "      <th>Pluie</th>\n",
       "      <th>Qualite</th>\n",
       "    </tr>\n",
       "  </thead>\n",
       "  <tbody>\n",
       "    <tr>\n",
       "      <th>0</th>\n",
       "      <td>1924</td>\n",
       "      <td>3064</td>\n",
       "      <td>1201</td>\n",
       "      <td>10</td>\n",
       "      <td>361</td>\n",
       "      <td>Moyen</td>\n",
       "    </tr>\n",
       "    <tr>\n",
       "      <th>1</th>\n",
       "      <td>1925</td>\n",
       "      <td>3000</td>\n",
       "      <td>1053</td>\n",
       "      <td>11</td>\n",
       "      <td>338</td>\n",
       "      <td>Mediocre</td>\n",
       "    </tr>\n",
       "    <tr>\n",
       "      <th>2</th>\n",
       "      <td>1926</td>\n",
       "      <td>3155</td>\n",
       "      <td>1133</td>\n",
       "      <td>19</td>\n",
       "      <td>393</td>\n",
       "      <td>Moyen</td>\n",
       "    </tr>\n",
       "    <tr>\n",
       "      <th>3</th>\n",
       "      <td>1927</td>\n",
       "      <td>3085</td>\n",
       "      <td>970</td>\n",
       "      <td>4</td>\n",
       "      <td>467</td>\n",
       "      <td>Mediocre</td>\n",
       "    </tr>\n",
       "    <tr>\n",
       "      <th>4</th>\n",
       "      <td>1928</td>\n",
       "      <td>3245</td>\n",
       "      <td>1258</td>\n",
       "      <td>36</td>\n",
       "      <td>294</td>\n",
       "      <td>Bon</td>\n",
       "    </tr>\n",
       "  </tbody>\n",
       "</table>\n",
       "</div>\n",
       "    <div class=\"colab-df-buttons\">\n",
       "\n",
       "  <div class=\"colab-df-container\">\n",
       "    <button class=\"colab-df-convert\" onclick=\"convertToInteractive('df-d8691063-13c6-4a16-aea8-7a0e84544820')\"\n",
       "            title=\"Convert this dataframe to an interactive table.\"\n",
       "            style=\"display:none;\">\n",
       "\n",
       "  <svg xmlns=\"http://www.w3.org/2000/svg\" height=\"24px\" viewBox=\"0 -960 960 960\">\n",
       "    <path d=\"M120-120v-720h720v720H120Zm60-500h600v-160H180v160Zm220 220h160v-160H400v160Zm0 220h160v-160H400v160ZM180-400h160v-160H180v160Zm440 0h160v-160H620v160ZM180-180h160v-160H180v160Zm440 0h160v-160H620v160Z\"/>\n",
       "  </svg>\n",
       "    </button>\n",
       "\n",
       "  <style>\n",
       "    .colab-df-container {\n",
       "      display:flex;\n",
       "      gap: 12px;\n",
       "    }\n",
       "\n",
       "    .colab-df-convert {\n",
       "      background-color: #E8F0FE;\n",
       "      border: none;\n",
       "      border-radius: 50%;\n",
       "      cursor: pointer;\n",
       "      display: none;\n",
       "      fill: #1967D2;\n",
       "      height: 32px;\n",
       "      padding: 0 0 0 0;\n",
       "      width: 32px;\n",
       "    }\n",
       "\n",
       "    .colab-df-convert:hover {\n",
       "      background-color: #E2EBFA;\n",
       "      box-shadow: 0px 1px 2px rgba(60, 64, 67, 0.3), 0px 1px 3px 1px rgba(60, 64, 67, 0.15);\n",
       "      fill: #174EA6;\n",
       "    }\n",
       "\n",
       "    .colab-df-buttons div {\n",
       "      margin-bottom: 4px;\n",
       "    }\n",
       "\n",
       "    [theme=dark] .colab-df-convert {\n",
       "      background-color: #3B4455;\n",
       "      fill: #D2E3FC;\n",
       "    }\n",
       "\n",
       "    [theme=dark] .colab-df-convert:hover {\n",
       "      background-color: #434B5C;\n",
       "      box-shadow: 0px 1px 3px 1px rgba(0, 0, 0, 0.15);\n",
       "      filter: drop-shadow(0px 1px 2px rgba(0, 0, 0, 0.3));\n",
       "      fill: #FFFFFF;\n",
       "    }\n",
       "  </style>\n",
       "\n",
       "    <script>\n",
       "      const buttonEl =\n",
       "        document.querySelector('#df-d8691063-13c6-4a16-aea8-7a0e84544820 button.colab-df-convert');\n",
       "      buttonEl.style.display =\n",
       "        google.colab.kernel.accessAllowed ? 'block' : 'none';\n",
       "\n",
       "      async function convertToInteractive(key) {\n",
       "        const element = document.querySelector('#df-d8691063-13c6-4a16-aea8-7a0e84544820');\n",
       "        const dataTable =\n",
       "          await google.colab.kernel.invokeFunction('convertToInteractive',\n",
       "                                                    [key], {});\n",
       "        if (!dataTable) return;\n",
       "\n",
       "        const docLinkHtml = 'Like what you see? Visit the ' +\n",
       "          '<a target=\"_blank\" href=https://colab.research.google.com/notebooks/data_table.ipynb>data table notebook</a>'\n",
       "          + ' to learn more about interactive tables.';\n",
       "        element.innerHTML = '';\n",
       "        dataTable['output_type'] = 'display_data';\n",
       "        await google.colab.output.renderOutput(dataTable, element);\n",
       "        const docLink = document.createElement('div');\n",
       "        docLink.innerHTML = docLinkHtml;\n",
       "        element.appendChild(docLink);\n",
       "      }\n",
       "    </script>\n",
       "  </div>\n",
       "\n",
       "\n",
       "<div id=\"df-98370ce4-9552-4f33-b472-ceee9ff3fe2e\">\n",
       "  <button class=\"colab-df-quickchart\" onclick=\"quickchart('df-98370ce4-9552-4f33-b472-ceee9ff3fe2e')\"\n",
       "            title=\"Suggest charts\"\n",
       "            style=\"display:none;\">\n",
       "\n",
       "<svg xmlns=\"http://www.w3.org/2000/svg\" height=\"24px\"viewBox=\"0 0 24 24\"\n",
       "     width=\"24px\">\n",
       "    <g>\n",
       "        <path d=\"M19 3H5c-1.1 0-2 .9-2 2v14c0 1.1.9 2 2 2h14c1.1 0 2-.9 2-2V5c0-1.1-.9-2-2-2zM9 17H7v-7h2v7zm4 0h-2V7h2v10zm4 0h-2v-4h2v4z\"/>\n",
       "    </g>\n",
       "</svg>\n",
       "  </button>\n",
       "\n",
       "<style>\n",
       "  .colab-df-quickchart {\n",
       "      --bg-color: #E8F0FE;\n",
       "      --fill-color: #1967D2;\n",
       "      --hover-bg-color: #E2EBFA;\n",
       "      --hover-fill-color: #174EA6;\n",
       "      --disabled-fill-color: #AAA;\n",
       "      --disabled-bg-color: #DDD;\n",
       "  }\n",
       "\n",
       "  [theme=dark] .colab-df-quickchart {\n",
       "      --bg-color: #3B4455;\n",
       "      --fill-color: #D2E3FC;\n",
       "      --hover-bg-color: #434B5C;\n",
       "      --hover-fill-color: #FFFFFF;\n",
       "      --disabled-bg-color: #3B4455;\n",
       "      --disabled-fill-color: #666;\n",
       "  }\n",
       "\n",
       "  .colab-df-quickchart {\n",
       "    background-color: var(--bg-color);\n",
       "    border: none;\n",
       "    border-radius: 50%;\n",
       "    cursor: pointer;\n",
       "    display: none;\n",
       "    fill: var(--fill-color);\n",
       "    height: 32px;\n",
       "    padding: 0;\n",
       "    width: 32px;\n",
       "  }\n",
       "\n",
       "  .colab-df-quickchart:hover {\n",
       "    background-color: var(--hover-bg-color);\n",
       "    box-shadow: 0 1px 2px rgba(60, 64, 67, 0.3), 0 1px 3px 1px rgba(60, 64, 67, 0.15);\n",
       "    fill: var(--button-hover-fill-color);\n",
       "  }\n",
       "\n",
       "  .colab-df-quickchart-complete:disabled,\n",
       "  .colab-df-quickchart-complete:disabled:hover {\n",
       "    background-color: var(--disabled-bg-color);\n",
       "    fill: var(--disabled-fill-color);\n",
       "    box-shadow: none;\n",
       "  }\n",
       "\n",
       "  .colab-df-spinner {\n",
       "    border: 2px solid var(--fill-color);\n",
       "    border-color: transparent;\n",
       "    border-bottom-color: var(--fill-color);\n",
       "    animation:\n",
       "      spin 1s steps(1) infinite;\n",
       "  }\n",
       "\n",
       "  @keyframes spin {\n",
       "    0% {\n",
       "      border-color: transparent;\n",
       "      border-bottom-color: var(--fill-color);\n",
       "      border-left-color: var(--fill-color);\n",
       "    }\n",
       "    20% {\n",
       "      border-color: transparent;\n",
       "      border-left-color: var(--fill-color);\n",
       "      border-top-color: var(--fill-color);\n",
       "    }\n",
       "    30% {\n",
       "      border-color: transparent;\n",
       "      border-left-color: var(--fill-color);\n",
       "      border-top-color: var(--fill-color);\n",
       "      border-right-color: var(--fill-color);\n",
       "    }\n",
       "    40% {\n",
       "      border-color: transparent;\n",
       "      border-right-color: var(--fill-color);\n",
       "      border-top-color: var(--fill-color);\n",
       "    }\n",
       "    60% {\n",
       "      border-color: transparent;\n",
       "      border-right-color: var(--fill-color);\n",
       "    }\n",
       "    80% {\n",
       "      border-color: transparent;\n",
       "      border-right-color: var(--fill-color);\n",
       "      border-bottom-color: var(--fill-color);\n",
       "    }\n",
       "    90% {\n",
       "      border-color: transparent;\n",
       "      border-bottom-color: var(--fill-color);\n",
       "    }\n",
       "  }\n",
       "</style>\n",
       "\n",
       "  <script>\n",
       "    async function quickchart(key) {\n",
       "      const quickchartButtonEl =\n",
       "        document.querySelector('#' + key + ' button');\n",
       "      quickchartButtonEl.disabled = true;  // To prevent multiple clicks.\n",
       "      quickchartButtonEl.classList.add('colab-df-spinner');\n",
       "      try {\n",
       "        const charts = await google.colab.kernel.invokeFunction(\n",
       "            'suggestCharts', [key], {});\n",
       "      } catch (error) {\n",
       "        console.error('Error during call to suggestCharts:', error);\n",
       "      }\n",
       "      quickchartButtonEl.classList.remove('colab-df-spinner');\n",
       "      quickchartButtonEl.classList.add('colab-df-quickchart-complete');\n",
       "    }\n",
       "    (() => {\n",
       "      let quickchartButtonEl =\n",
       "        document.querySelector('#df-98370ce4-9552-4f33-b472-ceee9ff3fe2e button');\n",
       "      quickchartButtonEl.style.display =\n",
       "        google.colab.kernel.accessAllowed ? 'block' : 'none';\n",
       "    })();\n",
       "  </script>\n",
       "</div>\n",
       "\n",
       "    </div>\n",
       "  </div>\n"
      ],
      "text/plain": [
       "   Annee  Temperature  Soleil  Chaleur  Pluie   Qualite\n",
       "0   1924         3064    1201       10    361     Moyen\n",
       "1   1925         3000    1053       11    338  Mediocre\n",
       "2   1926         3155    1133       19    393     Moyen\n",
       "3   1927         3085     970        4    467  Mediocre\n",
       "4   1928         3245    1258       36    294       Bon"
      ]
     },
     "execution_count": 63,
     "metadata": {},
     "output_type": "execute_result"
    }
   ],
   "source": [
    "# Suppression Obs.\n",
    "donnee = data.drop(['Obs.'],axis=1)\n",
    "donnee.head()"
   ]
  },
  {
   "cell_type": "code",
   "execution_count": null,
   "metadata": {
    "colab": {
     "base_uri": "https://localhost:8080/",
     "height": 838
    },
    "id": "gj70VQHZTYm5",
    "outputId": "54f478c3-8e6b-4f56-c660-4dec8a64e90d"
   },
   "outputs": [
    {
     "data": {
      "image/png": "[encoded data removed]",
      "text/plain": [
       "<Figure size 1800x1000 with 6 Axes>"
      ]
     },
     "metadata": {},
     "output_type": "display_data"
    }
   ],
   "source": [
    "# Créer un ensemble de sous-graphiques (2 lignes, 3 colonnes)\n",
    "fig, axes = plt.subplots(nrows=2, ncols=3, figsize=(18, 10))\n",
    "\n",
    "# Liste des paires d'axes à tracer\n",
    "axes_pairs = [('Pluie', 'Chaleur'), ('Temperature', 'Chaleur'), ('Temperature', 'Pluie'), ('Soleil', 'Chaleur'), ('Temperature', 'Soleil'),('Pluie', 'Soleil')]\n",
    "\n",
    "# Couleurs pour les différentes catégories de Qualite\n",
    "colors = {'Moyen': 'blue', 'Mediocre': 'orange', 'Bon': 'green'}\n",
    "\n",
    "# Parcourir chaque paire d'axes et créer les nuages de points\n",
    "for (i, j), ax in zip(axes_pairs, axes.flatten()):\n",
    "    for qualite, color in colors.items():\n",
    "        subset = donnee[donnee['Qualite'] == qualite]\n",
    "        ax.scatter(subset[i], subset[j], label=f'({qualite})', color=color)\n",
    "        ax.set_xlabel(i)\n",
    "        ax.set_ylabel(j)\n",
    "        ax.set_title(f'{i} vs {j}')\n",
    "        ax.legend()\n",
    "\n",
    "# Ajuster l'espacement entre les sous-graphiques\n",
    "plt.tight_layout()\n",
    "\n",
    "# Afficher les sous-graphiques\n",
    "plt.show()"
   ]
  },
  {
   "cell_type": "markdown",
   "metadata": {
    "id": "HVWWNJG_5RLK"
   },
   "source": [
    "\n",
    "\n",
    "*   On crée une instance de la classe CANDISC, en lui passant ici des étiquettes pour les lignes et\n",
    "les variables.\n",
    "\n",
    "*   Le constructeur de la classe CANDISC possède un paramètre n_components qui\n",
    "indique le nombre d’axes discriminants à garder. Par défaut, la valeur du paramètre n_components est fixée à None.\n",
    "\n",
    "\n",
    "\n",
    "\n"
   ]
  },
  {
   "cell_type": "code",
   "execution_count": null,
   "metadata": {
    "colab": {
     "base_uri": "https://localhost:8080/",
     "height": 109
    },
    "id": "AixjoKJpMco1",
    "outputId": "e898a3df-cf36-4207-e299-666ce4292ed7"
   },
   "outputs": [
    {
     "data": {
      "text/html": [
       "<style>#sk-container-id-2 {color: black;background-color: white;}#sk-container-id-2 pre{padding: 0;}#sk-container-id-2 div.sk-toggleable {background-color: white;}#sk-container-id-2 label.sk-toggleable__label {cursor: pointer;display: block;width: 100%;margin-bottom: 0;padding: 0.3em;box-sizing: border-box;text-align: center;}#sk-container-id-2 label.sk-toggleable__label-arrow:before {content: \"▸\";float: left;margin-right: 0.25em;color: #696969;}#sk-container-id-2 label.sk-toggleable__label-arrow:hover:before {color: black;}#sk-container-id-2 div.sk-estimator:hover label.sk-toggleable__label-arrow:before {color: black;}#sk-container-id-2 div.sk-toggleable__content {max-height: 0;max-width: 0;overflow: hidden;text-align: left;background-color: #f0f8ff;}#sk-container-id-2 div.sk-toggleable__content pre {margin: 0.2em;color: black;border-radius: 0.25em;background-color: #f0f8ff;}#sk-container-id-2 input.sk-toggleable__control:checked~div.sk-toggleable__content {max-height: 200px;max-width: 100%;overflow: auto;}#sk-container-id-2 input.sk-toggleable__control:checked~label.sk-toggleable__label-arrow:before {content: \"▾\";}#sk-container-id-2 div.sk-estimator input.sk-toggleable__control:checked~label.sk-toggleable__label {background-color: #d4ebff;}#sk-container-id-2 div.sk-label input.sk-toggleable__control:checked~label.sk-toggleable__label {background-color: #d4ebff;}#sk-container-id-2 input.sk-hidden--visually {border: 0;clip: rect(1px 1px 1px 1px);clip: rect(1px, 1px, 1px, 1px);height: 1px;margin: -1px;overflow: hidden;padding: 0;position: absolute;width: 1px;}#sk-container-id-2 div.sk-estimator {font-family: monospace;background-color: #f0f8ff;border: 1px dotted black;border-radius: 0.25em;box-sizing: border-box;margin-bottom: 0.5em;}#sk-container-id-2 div.sk-estimator:hover {background-color: #d4ebff;}#sk-container-id-2 div.sk-parallel-item::after {content: \"\";width: 100%;border-bottom: 1px solid gray;flex-grow: 1;}#sk-container-id-2 div.sk-label:hover label.sk-toggleable__label {background-color: #d4ebff;}#sk-container-id-2 div.sk-serial::before {content: \"\";position: absolute;border-left: 1px solid gray;box-sizing: border-box;top: 0;bottom: 0;left: 50%;z-index: 0;}#sk-container-id-2 div.sk-serial {display: flex;flex-direction: column;align-items: center;background-color: white;padding-right: 0.2em;padding-left: 0.2em;position: relative;}#sk-container-id-2 div.sk-item {position: relative;z-index: 1;}#sk-container-id-2 div.sk-parallel {display: flex;align-items: stretch;justify-content: center;background-color: white;position: relative;}#sk-container-id-2 div.sk-item::before, #sk-container-id-2 div.sk-parallel-item::before {content: \"\";position: absolute;border-left: 1px solid gray;box-sizing: border-box;top: 0;bottom: 0;left: 50%;z-index: -1;}#sk-container-id-2 div.sk-parallel-item {display: flex;flex-direction: column;z-index: 1;position: relative;background-color: white;}#sk-container-id-2 div.sk-parallel-item:first-child::after {align-self: flex-end;width: 50%;}#sk-container-id-2 div.sk-parallel-item:last-child::after {align-self: flex-start;width: 50%;}#sk-container-id-2 div.sk-parallel-item:only-child::after {width: 0;}#sk-container-id-2 div.sk-dashed-wrapped {border: 1px dashed gray;margin: 0 0.4em 0.5em 0.4em;box-sizing: border-box;padding-bottom: 0.4em;background-color: white;}#sk-container-id-2 div.sk-label label {font-family: monospace;font-weight: bold;display: inline-block;line-height: 1.2em;}#sk-container-id-2 div.sk-label-container {text-align: center;}#sk-container-id-2 div.sk-container {/* jupyter's `normalize.less` sets `[hidden] { display: none; }` but bootstrap.min.css set `[hidden] { display: none !important; }` so we also need the `!important` here to be able to override the default hidden behavior on the sphinx rendered scikit-learn.org. See: https://github.com/scikit-learn/scikit-learn/issues/21755 */display: inline-block !important;position: relative;}#sk-container-id-2 div.sk-text-repr-fallback {display: none;}</style><div id=\"sk-container-id-2\" class=\"sk-top-container\"><div class=\"sk-text-repr-fallback\"><pre>CANDISC(features_labels=[&#x27;Temperature&#x27;, &#x27;Soleil&#x27;, &#x27;Chaleur&#x27;, &#x27;Pluie&#x27;],\n",
       "        n_components=2, row_labels=RangeIndex(start=0, stop=34, step=1),\n",
       "        target=[&#x27;Qualite&#x27;])</pre><b>In a Jupyter environment, please rerun this cell to show the HTML representation or trust the notebook. <br />On GitHub, the HTML representation is unable to render, please try loading this page with nbviewer.org.</b></div><div class=\"sk-container\" hidden><div class=\"sk-item\"><div class=\"sk-estimator sk-toggleable\"><input class=\"sk-toggleable__control sk-hidden--visually\" id=\"sk-estimator-id-2\" type=\"checkbox\" checked><label for=\"sk-estimator-id-2\" class=\"sk-toggleable__label sk-toggleable__label-arrow\">CANDISC</label><div class=\"sk-toggleable__content\"><pre>CANDISC(features_labels=[&#x27;Temperature&#x27;, &#x27;Soleil&#x27;, &#x27;Chaleur&#x27;, &#x27;Pluie&#x27;],\n",
       "        n_components=2, row_labels=RangeIndex(start=0, stop=34, step=1),\n",
       "        target=[&#x27;Qualite&#x27;])</pre></div></div></div></div></div>"
      ],
      "text/plain": [
       "CANDISC(features_labels=['Temperature', 'Soleil', 'Chaleur', 'Pluie'],\n",
       "        n_components=2, row_labels=RangeIndex(start=0, stop=34, step=1),\n",
       "        target=['Qualite'])"
      ]
     },
     "execution_count": 65,
     "metadata": {},
     "output_type": "execute_result"
    }
   ],
   "source": [
    "# Instanciation\n",
    "my_cda = CANDISC(n_components=2,\n",
    "                  target=[\"Qualite\"],\n",
    "                  row_labels=donnee.index,\n",
    "                  features_labels=[\"Temperature\",\"Soleil\",\"Chaleur\",\"Pluie\"],\n",
    "                  parallelize=False)\n",
    "\n",
    "# Apprentissage\n",
    "my_cda.fit(donnee)"
   ]
  },
  {
   "cell_type": "markdown",
   "metadata": {
    "id": "U1Zjzjix4ngh"
   },
   "source": [
    "— **n_components** : le nombre d’axes discriminants à garder dans les résultats\n",
    "\n",
    "— **target** : le label de la variable cible\n",
    "\n",
    "— **row_labels** : les noms des lignes\n",
    "\n",
    "— **features_labels** : les noms des variables explicatives\n",
    "\n",
    "\n",
    "---\n"
   ]
  },
  {
   "cell_type": "markdown",
   "metadata": {
    "id": "TO1q0gau-r7-"
   },
   "source": [
    "\n",
    "\n",
    "*   Le pouvoir discriminant des facteurs est traduit par les valeurs propres qui leurs sont associées.\n",
    "\n",
    "\n",
    "\n"
   ]
  },
  {
   "cell_type": "code",
   "execution_count": null,
   "metadata": {
    "colab": {
     "base_uri": "https://localhost:8080/"
    },
    "id": "HWVL3bOhMgBi",
    "outputId": "4d6c1ede-e24c-4f59-e9a3-80fb89ed6a5b"
   },
   "outputs": [
    {
     "name": "stdout",
     "output_type": "stream",
     "text": [
      "valeurs propres\n",
      "     eigenvalue  difference  proportion  cumulative\n",
      "LD1    3.278860    3.140286   95.945086   95.945086\n",
      "LD2    0.138574         NaN    4.054914  100.000000\n"
     ]
    }
   ],
   "source": [
    "# Valeurs propres\n",
    "print(\"valeurs propres\")\n",
    "print(get_eig(my_cda))"
   ]
  },
  {
   "cell_type": "markdown",
   "metadata": {
    "id": "32solpyT8qgs"
   },
   "source": [
    "Le premier axe discriminant contient 96% de l’information totale disponible.\n",
    "\n",
    "LD1 est le principal discriminant linéaire et explique presque la totalité de la variabilité, tandis que LD2 contribue à la part restante.\n"
   ]
  },
  {
   "cell_type": "markdown",
   "metadata": {
    "id": "mEMwmrYj-mNG"
   },
   "source": [
    "\n",
    "\n",
    "*  On peut obtenir un résumé des principaux résultats en utilisant la fonction summaryCANDISC.\n",
    "\n",
    "\n"
   ]
  },
  {
   "cell_type": "code",
   "execution_count": null,
   "metadata": {
    "colab": {
     "base_uri": "https://localhost:8080/"
    },
    "id": "9Hd8NtQIMsw5",
    "outputId": "ccf35ce7-348d-4147-aa50-1c6c414c2389"
   },
   "outputs": [
    {
     "name": "stdout",
     "output_type": "stream",
     "text": [
      "                     Canonical Discriminant Analysis - Results                     \n",
      "\n",
      "\n",
      "Summary Information\n",
      "       Total Sample Size  Variables  Classes  DF Total  DF Within Classes  \\\n",
      "value                 34          4        3        33                 31   \n",
      "\n",
      "       DF Between Classes  \n",
      "value                   2  \n",
      "\n",
      "Class Level information\n",
      "          n(k)      p(k)\n",
      "Qualite                 \n",
      "Mediocre    12  0.352941\n",
      "Bon         11  0.323529\n",
      "Moyen       11  0.323529\n",
      "\n",
      "Importance of components\n",
      "                            LD1      LD2\n",
      "Variance                  3.279    0.139\n",
      "Difference                3.140      NaN\n",
      "% of var.                95.945    4.055\n",
      "Cumulative of % of var.  95.945  100.000\n",
      "\n",
      "Group means:\n",
      "          Temperature    Soleil  Chaleur    Pluie\n",
      "Qualite                                          \n",
      "Bon          3306.364  1363.636   28.545  305.000\n",
      "Mediocre     3037.333  1126.417   12.083  430.333\n",
      "Moyen        3140.909  1262.909   16.455  339.636\n",
      "\n",
      "Coefficients of canonical discriminants:\n",
      "                LD1    LD2\n",
      "Temperature  -0.009  0.000\n",
      "Soleil       -0.007  0.005\n",
      "Chaleur       0.027 -0.128\n",
      "Pluie         0.006 -0.006\n",
      "Intercept    32.876 -2.165\n",
      "\n",
      "Classification functions coefficients:\n",
      "                Bon  Mediocre  Moyen\n",
      "Temperature   0.018    -0.018  0.001\n",
      "Soleil        0.013    -0.015  0.004\n",
      "Chaleur      -0.023     0.084 -0.069\n",
      "Pluie        -0.011     0.014 -0.004\n",
      "Intercept   -72.590    65.609 -7.192\n",
      "\n",
      "Individuals (the 10 first)\n",
      "\n",
      "     LD1    LD2\n",
      "0  0.883  0.872\n",
      "1  2.325  0.094\n",
      "2  0.995 -0.833\n",
      "3  2.727 -0.247\n",
      "4 -0.744 -1.721\n",
      "5 -2.231 -0.484\n",
      "6  2.747 -1.109\n",
      "7  2.534 -0.236\n",
      "8  3.731 -2.114\n",
      "9 -1.130 -1.368\n",
      "\n",
      "Continues variables\n",
      "\n",
      "             total.1  between.1  within.1  total.2  between.2  within.2\n",
      "Temperature   -0.901     -0.987    -0.724   -0.375     -0.211    -0.584\n",
      "Soleil        -0.897     -0.999    -0.701    0.116      0.003     0.176\n",
      "Chaleur       -0.771     -0.957    -0.525   -0.590     -0.336    -0.780\n",
      "Pluie          0.663      0.977     0.398   -0.361     -0.167    -0.421\n"
     ]
    }
   ],
   "source": [
    "summaryCANDISC(my_cda)"
   ]
  },
  {
   "cell_type": "markdown",
   "metadata": {
    "id": "Pyoc62Vk92uh"
   },
   "source": [
    "\n",
    "\n",
    "*   Il ne faut pas oublier les constantes (intercept) des fonctions discriminantes.\n",
    "\n",
    "\n"
   ]
  },
  {
   "cell_type": "code",
   "execution_count": null,
   "metadata": {
    "colab": {
     "base_uri": "https://localhost:8080/"
    },
    "id": "B6QABSZlOkRq",
    "outputId": "d174caa1-8be6-4026-fed6-8afab8b29b39"
   },
   "outputs": [
    {
     "name": "stdout",
     "output_type": "stream",
     "text": [
      "[32.87628192 -2.16527944]\n"
     ]
    }
   ],
   "source": [
    "# et les constantes pour chaque classe\n",
    "print(my_cda.intercept_)"
   ]
  },
  {
   "cell_type": "markdown",
   "metadata": {
    "id": "u91KCqic_KNQ"
   },
   "source": [
    "\n",
    "\n",
    "*   Nous pouvons dès lors adopter une présentation plus sympathique des fonctions discriminantes.\n",
    "Pour ce faire, nous utilisons la fonction get_candisc_coef en fixant le paramètre « choice =\n",
    "\"absolute\" ».\n",
    "\n",
    "\n"
   ]
  },
  {
   "cell_type": "code",
   "execution_count": null,
   "metadata": {
    "colab": {
     "base_uri": "https://localhost:8080/",
     "height": 206
    },
    "id": "DGB5zu_hOsO2",
    "outputId": "77ffab95-4800-433c-c0d4-a0c84a20bb56"
   },
   "outputs": [
    {
     "data": {
      "text/html": [
       "\n",
       "  <div id=\"df-fc3ef285-276c-47a4-ac71-28a068259100\" class=\"colab-df-container\">\n",
       "    <div>\n",
       "<style scoped>\n",
       "    .dataframe tbody tr th:only-of-type {\n",
       "        vertical-align: middle;\n",
       "    }\n",
       "\n",
       "    .dataframe tbody tr th {\n",
       "        vertical-align: top;\n",
       "    }\n",
       "\n",
       "    .dataframe thead th {\n",
       "        text-align: right;\n",
       "    }\n",
       "</style>\n",
       "<table border=\"1\" class=\"dataframe\">\n",
       "  <thead>\n",
       "    <tr style=\"text-align: right;\">\n",
       "      <th></th>\n",
       "      <th>LD1</th>\n",
       "      <th>LD2</th>\n",
       "    </tr>\n",
       "  </thead>\n",
       "  <tbody>\n",
       "    <tr>\n",
       "      <th>Temperature</th>\n",
       "      <td>-0.008566</td>\n",
       "      <td>0.000046</td>\n",
       "    </tr>\n",
       "    <tr>\n",
       "      <th>Soleil</th>\n",
       "      <td>-0.006774</td>\n",
       "      <td>0.005329</td>\n",
       "    </tr>\n",
       "    <tr>\n",
       "      <th>Chaleur</th>\n",
       "      <td>0.027054</td>\n",
       "      <td>-0.127636</td>\n",
       "    </tr>\n",
       "    <tr>\n",
       "      <th>Pluie</th>\n",
       "      <td>0.005866</td>\n",
       "      <td>-0.006175</td>\n",
       "    </tr>\n",
       "    <tr>\n",
       "      <th>Intercept</th>\n",
       "      <td>32.876282</td>\n",
       "      <td>-2.165279</td>\n",
       "    </tr>\n",
       "  </tbody>\n",
       "</table>\n",
       "</div>\n",
       "    <div class=\"colab-df-buttons\">\n",
       "\n",
       "  <div class=\"colab-df-container\">\n",
       "    <button class=\"colab-df-convert\" onclick=\"convertToInteractive('df-fc3ef285-276c-47a4-ac71-28a068259100')\"\n",
       "            title=\"Convert this dataframe to an interactive table.\"\n",
       "            style=\"display:none;\">\n",
       "\n",
       "  <svg xmlns=\"http://www.w3.org/2000/svg\" height=\"24px\" viewBox=\"0 -960 960 960\">\n",
       "    <path d=\"M120-120v-720h720v720H120Zm60-500h600v-160H180v160Zm220 220h160v-160H400v160Zm0 220h160v-160H400v160ZM180-400h160v-160H180v160Zm440 0h160v-160H620v160ZM180-180h160v-160H180v160Zm440 0h160v-160H620v160Z\"/>\n",
       "  </svg>\n",
       "    </button>\n",
       "\n",
       "  <style>\n",
       "    .colab-df-container {\n",
       "      display:flex;\n",
       "      gap: 12px;\n",
       "    }\n",
       "\n",
       "    .colab-df-convert {\n",
       "      background-color: #E8F0FE;\n",
       "      border: none;\n",
       "      border-radius: 50%;\n",
       "      cursor: pointer;\n",
       "      display: none;\n",
       "      fill: #1967D2;\n",
       "      height: 32px;\n",
       "      padding: 0 0 0 0;\n",
       "      width: 32px;\n",
       "    }\n",
       "\n",
       "    .colab-df-convert:hover {\n",
       "      background-color: #E2EBFA;\n",
       "      box-shadow: 0px 1px 2px rgba(60, 64, 67, 0.3), 0px 1px 3px 1px rgba(60, 64, 67, 0.15);\n",
       "      fill: #174EA6;\n",
       "    }\n",
       "\n",
       "    .colab-df-buttons div {\n",
       "      margin-bottom: 4px;\n",
       "    }\n",
       "\n",
       "    [theme=dark] .colab-df-convert {\n",
       "      background-color: #3B4455;\n",
       "      fill: #D2E3FC;\n",
       "    }\n",
       "\n",
       "    [theme=dark] .colab-df-convert:hover {\n",
       "      background-color: #434B5C;\n",
       "      box-shadow: 0px 1px 3px 1px rgba(0, 0, 0, 0.15);\n",
       "      filter: drop-shadow(0px 1px 2px rgba(0, 0, 0, 0.3));\n",
       "      fill: #FFFFFF;\n",
       "    }\n",
       "  </style>\n",
       "\n",
       "    <script>\n",
       "      const buttonEl =\n",
       "        document.querySelector('#df-fc3ef285-276c-47a4-ac71-28a068259100 button.colab-df-convert');\n",
       "      buttonEl.style.display =\n",
       "        google.colab.kernel.accessAllowed ? 'block' : 'none';\n",
       "\n",
       "      async function convertToInteractive(key) {\n",
       "        const element = document.querySelector('#df-fc3ef285-276c-47a4-ac71-28a068259100');\n",
       "        const dataTable =\n",
       "          await google.colab.kernel.invokeFunction('convertToInteractive',\n",
       "                                                    [key], {});\n",
       "        if (!dataTable) return;\n",
       "\n",
       "        const docLinkHtml = 'Like what you see? Visit the ' +\n",
       "          '<a target=\"_blank\" href=https://colab.research.google.com/notebooks/data_table.ipynb>data table notebook</a>'\n",
       "          + ' to learn more about interactive tables.';\n",
       "        element.innerHTML = '';\n",
       "        dataTable['output_type'] = 'display_data';\n",
       "        await google.colab.output.renderOutput(dataTable, element);\n",
       "        const docLink = document.createElement('div');\n",
       "        docLink.innerHTML = docLinkHtml;\n",
       "        element.appendChild(docLink);\n",
       "      }\n",
       "    </script>\n",
       "  </div>\n",
       "\n",
       "\n",
       "<div id=\"df-0795dbbe-9066-4550-9de9-e71cafc15e5b\">\n",
       "  <button class=\"colab-df-quickchart\" onclick=\"quickchart('df-0795dbbe-9066-4550-9de9-e71cafc15e5b')\"\n",
       "            title=\"Suggest charts\"\n",
       "            style=\"display:none;\">\n",
       "\n",
       "<svg xmlns=\"http://www.w3.org/2000/svg\" height=\"24px\"viewBox=\"0 0 24 24\"\n",
       "     width=\"24px\">\n",
       "    <g>\n",
       "        <path d=\"M19 3H5c-1.1 0-2 .9-2 2v14c0 1.1.9 2 2 2h14c1.1 0 2-.9 2-2V5c0-1.1-.9-2-2-2zM9 17H7v-7h2v7zm4 0h-2V7h2v10zm4 0h-2v-4h2v4z\"/>\n",
       "    </g>\n",
       "</svg>\n",
       "  </button>\n",
       "\n",
       "<style>\n",
       "  .colab-df-quickchart {\n",
       "      --bg-color: #E8F0FE;\n",
       "      --fill-color: #1967D2;\n",
       "      --hover-bg-color: #E2EBFA;\n",
       "      --hover-fill-color: #174EA6;\n",
       "      --disabled-fill-color: #AAA;\n",
       "      --disabled-bg-color: #DDD;\n",
       "  }\n",
       "\n",
       "  [theme=dark] .colab-df-quickchart {\n",
       "      --bg-color: #3B4455;\n",
       "      --fill-color: #D2E3FC;\n",
       "      --hover-bg-color: #434B5C;\n",
       "      --hover-fill-color: #FFFFFF;\n",
       "      --disabled-bg-color: #3B4455;\n",
       "      --disabled-fill-color: #666;\n",
       "  }\n",
       "\n",
       "  .colab-df-quickchart {\n",
       "    background-color: var(--bg-color);\n",
       "    border: none;\n",
       "    border-radius: 50%;\n",
       "    cursor: pointer;\n",
       "    display: none;\n",
       "    fill: var(--fill-color);\n",
       "    height: 32px;\n",
       "    padding: 0;\n",
       "    width: 32px;\n",
       "  }\n",
       "\n",
       "  .colab-df-quickchart:hover {\n",
       "    background-color: var(--hover-bg-color);\n",
       "    box-shadow: 0 1px 2px rgba(60, 64, 67, 0.3), 0 1px 3px 1px rgba(60, 64, 67, 0.15);\n",
       "    fill: var(--button-hover-fill-color);\n",
       "  }\n",
       "\n",
       "  .colab-df-quickchart-complete:disabled,\n",
       "  .colab-df-quickchart-complete:disabled:hover {\n",
       "    background-color: var(--disabled-bg-color);\n",
       "    fill: var(--disabled-fill-color);\n",
       "    box-shadow: none;\n",
       "  }\n",
       "\n",
       "  .colab-df-spinner {\n",
       "    border: 2px solid var(--fill-color);\n",
       "    border-color: transparent;\n",
       "    border-bottom-color: var(--fill-color);\n",
       "    animation:\n",
       "      spin 1s steps(1) infinite;\n",
       "  }\n",
       "\n",
       "  @keyframes spin {\n",
       "    0% {\n",
       "      border-color: transparent;\n",
       "      border-bottom-color: var(--fill-color);\n",
       "      border-left-color: var(--fill-color);\n",
       "    }\n",
       "    20% {\n",
       "      border-color: transparent;\n",
       "      border-left-color: var(--fill-color);\n",
       "      border-top-color: var(--fill-color);\n",
       "    }\n",
       "    30% {\n",
       "      border-color: transparent;\n",
       "      border-left-color: var(--fill-color);\n",
       "      border-top-color: var(--fill-color);\n",
       "      border-right-color: var(--fill-color);\n",
       "    }\n",
       "    40% {\n",
       "      border-color: transparent;\n",
       "      border-right-color: var(--fill-color);\n",
       "      border-top-color: var(--fill-color);\n",
       "    }\n",
       "    60% {\n",
       "      border-color: transparent;\n",
       "      border-right-color: var(--fill-color);\n",
       "    }\n",
       "    80% {\n",
       "      border-color: transparent;\n",
       "      border-right-color: var(--fill-color);\n",
       "      border-bottom-color: var(--fill-color);\n",
       "    }\n",
       "    90% {\n",
       "      border-color: transparent;\n",
       "      border-bottom-color: var(--fill-color);\n",
       "    }\n",
       "  }\n",
       "</style>\n",
       "\n",
       "  <script>\n",
       "    async function quickchart(key) {\n",
       "      const quickchartButtonEl =\n",
       "        document.querySelector('#' + key + ' button');\n",
       "      quickchartButtonEl.disabled = true;  // To prevent multiple clicks.\n",
       "      quickchartButtonEl.classList.add('colab-df-spinner');\n",
       "      try {\n",
       "        const charts = await google.colab.kernel.invokeFunction(\n",
       "            'suggestCharts', [key], {});\n",
       "      } catch (error) {\n",
       "        console.error('Error during call to suggestCharts:', error);\n",
       "      }\n",
       "      quickchartButtonEl.classList.remove('colab-df-spinner');\n",
       "      quickchartButtonEl.classList.add('colab-df-quickchart-complete');\n",
       "    }\n",
       "    (() => {\n",
       "      let quickchartButtonEl =\n",
       "        document.querySelector('#df-0795dbbe-9066-4550-9de9-e71cafc15e5b button');\n",
       "      quickchartButtonEl.style.display =\n",
       "        google.colab.kernel.accessAllowed ? 'block' : 'none';\n",
       "    })();\n",
       "  </script>\n",
       "</div>\n",
       "\n",
       "  <div id=\"id_c900e6d3-0853-4f9b-8fa6-56250a6df1e4\">\n",
       "    <style>\n",
       "      .colab-df-generate {\n",
       "        background-color: #E8F0FE;\n",
       "        border: none;\n",
       "        border-radius: 50%;\n",
       "        cursor: pointer;\n",
       "        display: none;\n",
       "        fill: #1967D2;\n",
       "        height: 32px;\n",
       "        padding: 0 0 0 0;\n",
       "        width: 32px;\n",
       "      }\n",
       "\n",
       "      .colab-df-generate:hover {\n",
       "        background-color: #E2EBFA;\n",
       "        box-shadow: 0px 1px 2px rgba(60, 64, 67, 0.3), 0px 1px 3px 1px rgba(60, 64, 67, 0.15);\n",
       "        fill: #174EA6;\n",
       "      }\n",
       "\n",
       "      [theme=dark] .colab-df-generate {\n",
       "        background-color: #3B4455;\n",
       "        fill: #D2E3FC;\n",
       "      }\n",
       "\n",
       "      [theme=dark] .colab-df-generate:hover {\n",
       "        background-color: #434B5C;\n",
       "        box-shadow: 0px 1px 3px 1px rgba(0, 0, 0, 0.15);\n",
       "        filter: drop-shadow(0px 1px 2px rgba(0, 0, 0, 0.3));\n",
       "        fill: #FFFFFF;\n",
       "      }\n",
       "    </style>\n",
       "    <button class=\"colab-df-generate\" onclick=\"generateWithVariable('coef')\"\n",
       "            title=\"Generate code using this dataframe.\"\n",
       "            style=\"display:none;\">\n",
       "\n",
       "  <svg xmlns=\"http://www.w3.org/2000/svg\" height=\"24px\"viewBox=\"0 0 24 24\"\n",
       "       width=\"24px\">\n",
       "    <path d=\"M7,19H8.4L18.45,9,17,7.55,7,17.6ZM5,21V16.75L18.45,3.32a2,2,0,0,1,2.83,0l1.4,1.43a1.91,1.91,0,0,1,.58,1.4,1.91,1.91,0,0,1-.58,1.4L9.25,21ZM18.45,9,17,7.55Zm-12,3A5.31,5.31,0,0,0,4.9,8.1,5.31,5.31,0,0,0,1,6.5,5.31,5.31,0,0,0,4.9,4.9,5.31,5.31,0,0,0,6.5,1,5.31,5.31,0,0,0,8.1,4.9,5.31,5.31,0,0,0,12,6.5,5.46,5.46,0,0,0,6.5,12Z\"/>\n",
       "  </svg>\n",
       "    </button>\n",
       "    <script>\n",
       "      (() => {\n",
       "      const buttonEl =\n",
       "        document.querySelector('#id_c900e6d3-0853-4f9b-8fa6-56250a6df1e4 button.colab-df-generate');\n",
       "      buttonEl.style.display =\n",
       "        google.colab.kernel.accessAllowed ? 'block' : 'none';\n",
       "\n",
       "      buttonEl.onclick = () => {\n",
       "        google.colab.notebook.generateWithVariable('coef');\n",
       "      }\n",
       "      })();\n",
       "    </script>\n",
       "  </div>\n",
       "\n",
       "    </div>\n",
       "  </div>\n"
      ],
      "text/plain": [
       "                   LD1       LD2\n",
       "Temperature  -0.008566  0.000046\n",
       "Soleil       -0.006774  0.005329\n",
       "Chaleur       0.027054 -0.127636\n",
       "Pluie         0.005866 -0.006175\n",
       "Intercept    32.876282 -2.165279"
      ]
     },
     "execution_count": 23,
     "metadata": {},
     "output_type": "execute_result"
    }
   ],
   "source": [
    "# Affichage des coefficients\n",
    "from scientisttools.extractfactor import get_candisc_coef\n",
    "coef = get_candisc_coef(my_cda,choice=\"absolute\")\n",
    "coef"
   ]
  },
  {
   "cell_type": "markdown",
   "metadata": {
    "id": "ZpEVZX_8-Hmb"
   },
   "source": [
    "**Représentations factorielles**"
   ]
  },
  {
   "cell_type": "markdown",
   "metadata": {
    "id": "hEa4nVJd-Nr9"
   },
   "source": [
    "\n",
    "\n",
    "*   **Coordonnées des individus**\n",
    "\n"
   ]
  },
  {
   "cell_type": "code",
   "execution_count": null,
   "metadata": {
    "colab": {
     "base_uri": "https://localhost:8080/"
    },
    "id": "Xgcuj4ZKOwo_",
    "outputId": "db644683-6992-4725-80d1-09c01014b408"
   },
   "outputs": [
    {
     "name": "stdout",
     "output_type": "stream",
     "text": [
      "        LD1       LD2\n",
      "0  0.882552  0.871537\n",
      "1  2.325456  0.094220\n",
      "2  0.994856 -0.832957\n",
      "3  2.726862 -0.247244\n",
      "4 -0.743596 -1.721167\n",
      "5 -2.230889 -0.484319\n"
     ]
    }
   ],
   "source": [
    "# Coordonnées des individus\n",
    "from scientisttools.extractfactor import get_candisc_row\n",
    "row_coord = get_candisc_row(my_cda)[\"coord\"]\n",
    "print(row_coord.head(6))"
   ]
  },
  {
   "cell_type": "code",
   "execution_count": null,
   "metadata": {
    "colab": {
     "base_uri": "https://localhost:8080/",
     "height": 718
    },
    "id": "PZTdz5ItO0LS",
    "outputId": "ab9e0de6-71d5-4180-e561-21017970b5b3"
   },
   "outputs": [
    {
     "data": {
      "image/png": "[encoded data removed]",
      "text/plain": [
       "<Figure size 1600x800 with 1 Axes>"
      ]
     },
     "metadata": {},
     "output_type": "display_data"
    }
   ],
   "source": [
    "# Carte des individus\n",
    "from scientisttools.pyplot import plotCANDISC\n",
    "import matplotlib.pyplot as plt\n",
    "fig, axe = plt.subplots(figsize=(16,8))\n",
    "plotCANDISC(my_cda,color=[\"blue\",'#5DC83F','red'],marker=['o',\"*\",'>'],ax=axe)\n",
    "plt.show()\n"
   ]
  },
  {
   "cell_type": "markdown",
   "metadata": {
    "id": "SxL7otes_bql"
   },
   "source": [
    "\n",
    "La séparation entre les classes \"Bon\" et \"Moyenne\" est moins distincte par rapport à la séparation entre elles et la classe \"Médiocre\". Certains triangles rouges (Moyenne) sont proches des cercles bleus (Bon), ce qui indique un certain chevauchement ou une similarité dans les caractéristiques définies par les variables canoniques.\n",
    "\n",
    "\n",
    "\n"
   ]
  },
  {
   "cell_type": "markdown",
   "metadata": {
    "id": "ver1WGk1ACMW"
   },
   "source": [
    "*   **Coordonnées des centres de classes**\n",
    "\n",
    "\n",
    "\n",
    "\n",
    "*   L’introduction des barycentre spermet de mieux situer la qualité relative des facteurs dans la\n",
    "discrimination des classes.\n",
    "\n",
    "\n",
    "\n",
    "\n"
   ]
  },
  {
   "cell_type": "code",
   "execution_count": null,
   "metadata": {
    "colab": {
     "base_uri": "https://localhost:8080/"
    },
    "id": "PfCc6AL5cezt",
    "outputId": "8613a0e5-4b05-4686-e4e8-6e3954a2fbfe"
   },
   "outputs": [
    {
     "name": "stdout",
     "output_type": "stream",
     "text": [
      "               LD1       LD2\n",
      "Qualite                     \n",
      "Bon      -2.121963 -0.271812\n",
      "Mediocre  2.079247 -0.221184\n",
      "Moyen    -0.146307  0.513104\n"
     ]
    }
   ],
   "source": [
    "# Coordonnées des centres de classes\n",
    "zk = my_cda.gcenter_\n",
    "print(zk)"
   ]
  },
  {
   "cell_type": "markdown",
   "metadata": {
    "id": "cxgcJP0hCVyO"
   },
   "source": [
    " **Evaluation globale du modèle**\n",
    "\n",
    "\n",
    "*   Evaluation statistique des facteurs\n",
    "*   Distance entre centres de classes\n",
    "\n"
   ]
  },
  {
   "cell_type": "markdown",
   "metadata": {
    "id": "mDt_ucN5C0aK"
   },
   "source": [
    "-Dans le plan factoriel, les distances sont camptabilisées à l’aide d’une simple distance euclidienne.\n"
   ]
  },
  {
   "cell_type": "code",
   "execution_count": null,
   "metadata": {
    "colab": {
     "base_uri": "https://localhost:8080/"
    },
    "id": "1UY0sIIpPkhU",
    "outputId": "c2aa9a2c-1bd9-4804-b26e-659413d8b808"
   },
   "outputs": [
    {
     "name": "stdout",
     "output_type": "stream",
     "text": [
      "                Bon   Mediocre     Moyen\n",
      "Bon        0.000000  17.652729  4.519311\n",
      "Mediocre  17.652729   0.000000  5.492267\n",
      "Moyen      4.519311   5.492267  0.000000\n"
     ]
    }
   ],
   "source": [
    "# Distances entre centres de classes\n",
    "print(my_cda.gdisto_)"
   ]
  },
  {
   "cell_type": "markdown",
   "metadata": {
    "id": "o_9pw7voC_-H"
   },
   "source": [
    "**Pouvoir discriminant des facteurs**"
   ]
  },
  {
   "cell_type": "markdown",
   "metadata": {
    "id": "MqTGKEWpDHU7"
   },
   "source": [
    "-Le pouvoir discriminant des facteurs est traduit par les valeurs propres qui leurs sont associées."
   ]
  },
  {
   "cell_type": "code",
   "execution_count": null,
   "metadata": {
    "colab": {
     "base_uri": "https://localhost:8080/"
    },
    "id": "jbfgPAW7DMUr",
    "outputId": "6062faa0-e82e-42ca-a0db-f7b982511d9a"
   },
   "outputs": [
    {
     "name": "stdout",
     "output_type": "stream",
     "text": [
      "     eigenvalue  difference  proportion  cumulative\n",
      "LD1    3.278860    3.140286   95.945086   95.945086\n",
      "LD2    0.138574         NaN    4.054914  100.000000\n"
     ]
    }
   ],
   "source": [
    "print(get_eig(my_cda))"
   ]
  },
  {
   "cell_type": "markdown",
   "metadata": {
    "id": "KfCdxc27Q6Ph"
   },
   "source": [
    "***Test MANOVA***"
   ]
  },
  {
   "cell_type": "markdown",
   "metadata": {
    "id": "WVX4Z74YFHRZ"
   },
   "source": [
    "\n",
    "\n",
    "*   Scientisttools forunit un test de sgnificativité globale du modèle.\n",
    "*   Nous nous intéressons en particulier à la ligne relative à « Wilks’ Lambda ».\n",
    "\n",
    "\n",
    "\n",
    "\n"
   ]
  },
  {
   "cell_type": "code",
   "execution_count": null,
   "metadata": {
    "colab": {
     "base_uri": "https://localhost:8080/"
    },
    "id": "s0_ie0I5Q7Eg",
    "outputId": "0f6940ea-d3a6-44b2-d754-802a988bbf40"
   },
   "outputs": [
    {
     "name": "stdout",
     "output_type": "stream",
     "text": [
      "                 Multivariate linear model\n",
      "============================================================\n",
      "                                                            \n",
      "------------------------------------------------------------\n",
      "        Qualite         Value  Num DF  Den DF F Value Pr > F\n",
      "------------------------------------------------------------\n",
      "          Wilks' lambda 0.2053 8.0000 56.0000  8.4505 0.0000\n",
      "         Pillai's trace 0.8880 8.0000 58.0000  5.7896 0.0000\n",
      " Hotelling-Lawley trace 3.4174 8.0000 37.7500 11.7280 0.0000\n",
      "    Roy's greatest root 3.2789 4.0000 29.0000 23.7717 0.0000\n",
      "============================================================\n",
      "\n"
     ]
    }
   ],
   "source": [
    "# Significativité globale du modèle\n",
    "print(my_cda.manova_)\n"
   ]
  },
  {
   "cell_type": "markdown",
   "metadata": {
    "id": "NIxXvK3JFrRE"
   },
   "source": [
    " **Performance globale**"
   ]
  },
  {
   "cell_type": "markdown",
   "metadata": {
    "id": "kMV6CnZNFy7s"
   },
   "source": [
    "-Nous affichons les valeurs des statistiques suivantes : Lambda de Wilks, Transformation de\n",
    "Bartlett et de RAO."
   ]
  },
  {
   "cell_type": "code",
   "execution_count": null,
   "metadata": {
    "colab": {
     "base_uri": "https://localhost:8080/"
    },
    "id": "iJlJ4iNhRCW9",
    "outputId": "2437e120-5a03-483e-e543-647976634d5e"
   },
   "outputs": [
    {
     "name": "stdout",
     "output_type": "stream",
     "text": [
      "               Stat      Value       p-value\n",
      "0     Wilks' Lambda   0.205263           NaN\n",
      "1  Bartlett -- C(8)  46.712169  1.739815e-07\n",
      "2    Rao -- F(8,56)   8.450507  1.890358e-07\n"
     ]
    }
   ],
   "source": [
    "# Performance globale\n",
    "print(my_cda.global_performance_)"
   ]
  },
  {
   "cell_type": "markdown",
   "metadata": {
    "id": "6t80IjOGLPMf"
   },
   "source": [
    "Wilks' lambda :\n",
    "Une valeur proche de zéro indique une forte discrimination entre les groupes.\n",
    "La valeur de 0.2053 suggère que le modèle est statistiquement significatif (p-value de 0.0000). Cela indique une différence significative entre les groupes dans l'espace discriminant."
   ]
  },
  {
   "cell_type": "markdown",
   "metadata": {
    "id": "Uee5cBAjSg-0"
   },
   "source": [
    "**Matrices de covariance**\n",
    "\n",
    "\n",
    "*   Elles sont directement fournies par l’objet « scientisttools »\n",
    "\n"
   ]
  },
  {
   "cell_type": "code",
   "execution_count": null,
   "metadata": {
    "colab": {
     "base_uri": "https://localhost:8080/"
    },
    "id": "pdMnET92Rd0q",
    "outputId": "1e29b893-396c-4397-cea2-e87237775424"
   },
   "outputs": [
    {
     "name": "stdout",
     "output_type": "stream",
     "text": [
      "             Temperature       Soleil     Chaleur        Pluie\n",
      "Temperature  6991.827094  1714.255793  420.615865   392.273619\n",
      "Soleil       1714.255793  5946.834447  154.271168  -144.059715\n",
      "Chaleur       420.615865   154.271168   48.952094   -31.750446\n",
      "Pluie         392.273619  -144.059715  -31.750446  5249.976827\n"
     ]
    }
   ],
   "source": [
    "# Covariance intra - classe\n",
    "print(my_cda.wcov_)"
   ]
  },
  {
   "cell_type": "code",
   "execution_count": null,
   "metadata": {
    "colab": {
     "base_uri": "https://localhost:8080/"
    },
    "id": "85cMhS6iSlxp",
    "outputId": "991893fe-8285-4639-de50-63a1ebe55499"
   },
   "outputs": [
    {
     "name": "stdout",
     "output_type": "stream",
     "text": [
      "              Temperature        Soleil      Chaleur        Pluie\n",
      "Temperature  19346.750865  12360.302768  1187.420415 -5130.448097\n",
      "Soleil       12360.302768  15561.807093   795.792388 -5317.760381\n",
      "Chaleur       1187.420415    795.792388    97.380623  -356.451557\n",
      "Pluie        -5130.448097  -5317.760381  -356.451557  8108.540657\n"
     ]
    }
   ],
   "source": [
    "# Covariance totale\n",
    "print(my_cda.tcov_)"
   ]
  },
  {
   "cell_type": "code",
   "execution_count": null,
   "metadata": {
    "colab": {
     "base_uri": "https://localhost:8080/"
    },
    "id": "6KEMzkfBSpLP",
    "outputId": "a96f7660-087c-4918-b90e-e045d63e44ea"
   },
   "outputs": [
    {
     "name": "stdout",
     "output_type": "stream",
     "text": [
      "              Temperature        Soleil     Chaleur        Pluie\n",
      "Temperature  12354.923771  10646.046975  766.804551 -5522.721715\n",
      "Soleil       10646.046975   9614.972646  641.521220 -5173.700666\n",
      "Chaleur        766.804551    641.521220   48.428528  -324.701111\n",
      "Pluie        -5522.721715  -5173.700666 -324.701111  2858.563830\n"
     ]
    }
   ],
   "source": [
    "# Matrice de covaiance inter - classe\n",
    "print(my_cda.bcov_)"
   ]
  },
  {
   "cell_type": "markdown",
   "metadata": {
    "id": "BkOsNShoS7ks"
   },
   "source": [
    "\n",
    "**Interprétation des facteurs**\n",
    "\n",
    "\n",
    "*   Elles sont directement fournies par l’objet « scientisttools »\n",
    "\n"
   ]
  },
  {
   "cell_type": "code",
   "execution_count": null,
   "metadata": {
    "colab": {
     "base_uri": "https://localhost:8080/"
    },
    "id": "VQxlCqfUSudX",
    "outputId": "edd89b3c-e066-44aa-cfbd-afbd8c31bee9"
   },
   "outputs": [
    {
     "name": "stdout",
     "output_type": "stream",
     "text": [
      "                  LD1       LD2\n",
      "Temperature -0.900589 -0.374779\n",
      "Soleil      -0.896744  0.116190\n",
      "Chaleur     -0.770513 -0.590030\n",
      "Pluie        0.662815 -0.361294\n"
     ]
    }
   ],
   "source": [
    "# Correlation totale\n",
    "print(my_cda.tcorr_)"
   ]
  },
  {
   "cell_type": "markdown",
   "metadata": {
    "id": "slxpxCmlL3DN"
   },
   "source": [
    "Dans le cas de LD1, les variables \"Temperature\" et \"Soleil\" ont des corrélations négatives élevées, indiquant qu'une diminution de ces variables est associée à une augmentation de LD1.\n",
    "\n",
    "La variable \"Pluie\" a une corrélation positive, suggérant une relation différente avec LD1."
   ]
  },
  {
   "cell_type": "code",
   "execution_count": null,
   "metadata": {
    "colab": {
     "base_uri": "https://localhost:8080/",
     "height": 718
    },
    "id": "-6DjltyY_I1b",
    "outputId": "85f511c7-73ac-4e3e-e46c-5c232e460e85"
   },
   "outputs": [
    {
     "data": {
      "image/png": "[encoded data removed]",
      "text/plain": [
       "<Figure size 800x800 with 1 Axes>"
      ]
     },
     "metadata": {},
     "output_type": "display_data"
    }
   ],
   "source": [
    "import numpy as np\n",
    "import matplotlib.pyplot as plt\n",
    "\n",
    "# Matrice de corrélation\n",
    "correlation_matrix = np.array([[-0.900589, -0.374779],\n",
    "                               [-0.896744, 0.116190],\n",
    "                               [-0.770513, -0.590030],\n",
    "                               [0.662815, -0.361294]])\n",
    "\n",
    "# Noms des variables\n",
    "variables = [\"Temperature\", \"Soleil\", \"Chaleur\", \"Pluie\"]\n",
    "\n",
    "# Créer le cercle de corrélation\n",
    "fig, ax = plt.subplots(figsize=(8, 8))\n",
    "ax.set_xlim(-1, 1)\n",
    "ax.set_ylim(-1, 1)\n",
    "\n",
    "# Ajouter les flèches pour chaque variable\n",
    "for i in range(len(variables)):\n",
    "    ax.arrow(0, 0, correlation_matrix[i, 0], correlation_matrix[i, 1], color='b', alpha=0.5,\n",
    "             head_width=0.05, head_length=0.1)\n",
    "    ax.text(correlation_matrix[i, 0] + 0.1, correlation_matrix[i, 1] + 0.1, variables[i], color='b')\n",
    "\n",
    "# Ajouter les cercles\n",
    "circle = plt.Circle((0, 0), 1, edgecolor='r', facecolor='none')\n",
    "ax.add_artist(circle)\n",
    "\n",
    "# Ajouter des lignes pour les axes\n",
    "ax.axhline(0, color='black', linewidth=0.5, linestyle='--')\n",
    "ax.axvline(0, color='black', linewidth=0.5, linestyle='--')\n",
    "\n",
    "# Ajouter une grille\n",
    "ax.grid(color='gray', linestyle='--', linewidth=0.5, alpha=0.7)\n",
    "\n",
    "# Titre et labels\n",
    "plt.title('Cercle de Corrélation')\n",
    "plt.xlabel('LD1(95.9%)')\n",
    "plt.ylabel('LD2(4.1%)')\n",
    "\n",
    "# Afficher le cercle de corrélation\n",
    "plt.show()\n"
   ]
  },
  {
   "cell_type": "code",
   "execution_count": null,
   "metadata": {
    "colab": {
     "base_uri": "https://localhost:8080/"
    },
    "id": "wqfucPdtS1Tt",
    "outputId": "16d8d315-077f-4547-8415-9a5a4ff2448e"
   },
   "outputs": [
    {
     "name": "stdout",
     "output_type": "stream",
     "text": [
      "                  LD1       LD2\n",
      "Temperature -0.724221 -0.584256\n",
      "Soleil      -0.701280  0.176148\n",
      "Chaleur     -0.525372 -0.779910\n",
      "Pluie        0.398218 -0.420797\n"
     ]
    }
   ],
   "source": [
    "# Correlation intra - classe\n",
    "print(my_cda.wcorr_)"
   ]
  },
  {
   "cell_type": "markdown",
   "metadata": {
    "id": "GtNioxRqNUBA"
   },
   "source": [
    " Dans la classe spécifique, la variable \"Temperature\" a une forte corrélation négative avec LD1 et LD2, indiquant que, dans cette classe, une diminution de la température est associée à une augmentation des valeurs de ces discriminants."
   ]
  },
  {
   "cell_type": "code",
   "execution_count": null,
   "metadata": {
    "colab": {
     "base_uri": "https://localhost:8080/"
    },
    "id": "vv9DnJwhTCu8",
    "outputId": "7ba30731-7ba3-47a7-84cb-cbbe53ef6681"
   },
   "outputs": [
    {
     "name": "stdout",
     "output_type": "stream",
     "text": [
      "                  LD1       LD2\n",
      "Temperature -0.986651 -0.211244\n",
      "Soleil      -0.998654  0.002625\n",
      "Chaleur     -0.957391 -0.335599\n",
      "Pluie        0.976576 -0.166812\n"
     ]
    }
   ],
   "source": [
    "# Corrélation inter - classe\n",
    "print(my_cda.bcorr_)"
   ]
  },
  {
   "cell_type": "markdown",
   "metadata": {
    "id": "OhdHbE21TJA6"
   },
   "source": [
    "**Prediction des classes**\n",
    "\n",
    "\n",
    "*   Considérons l’année 1958. Les données (hypothétiques) de cette année sont :\n",
    "\n"
   ]
  },
  {
   "cell_type": "code",
   "execution_count": null,
   "metadata": {
    "colab": {
     "base_uri": "https://localhost:8080/",
     "height": 89
    },
    "id": "umqLTuswTE5f",
    "outputId": "9b0a806b-b555-4999-848b-8b14748601f5"
   },
   "outputs": [
    {
     "data": {
      "text/html": [
       "\n",
       "  <div id=\"df-fa9192a5-a6f1-4a20-9f00-46938884b97c\" class=\"colab-df-container\">\n",
       "    <div>\n",
       "<style scoped>\n",
       "    .dataframe tbody tr th:only-of-type {\n",
       "        vertical-align: middle;\n",
       "    }\n",
       "\n",
       "    .dataframe tbody tr th {\n",
       "        vertical-align: top;\n",
       "    }\n",
       "\n",
       "    .dataframe thead th {\n",
       "        text-align: right;\n",
       "    }\n",
       "</style>\n",
       "<table border=\"1\" class=\"dataframe\">\n",
       "  <thead>\n",
       "    <tr style=\"text-align: right;\">\n",
       "      <th></th>\n",
       "      <th>Temperature</th>\n",
       "      <th>Soleil</th>\n",
       "      <th>Chaleur</th>\n",
       "      <th>Pluie</th>\n",
       "    </tr>\n",
       "  </thead>\n",
       "  <tbody>\n",
       "    <tr>\n",
       "      <th>1958</th>\n",
       "      <td>3000</td>\n",
       "      <td>1100</td>\n",
       "      <td>20</td>\n",
       "      <td>300</td>\n",
       "    </tr>\n",
       "  </tbody>\n",
       "</table>\n",
       "</div>\n",
       "    <div class=\"colab-df-buttons\">\n",
       "\n",
       "  <div class=\"colab-df-container\">\n",
       "    <button class=\"colab-df-convert\" onclick=\"convertToInteractive('df-fa9192a5-a6f1-4a20-9f00-46938884b97c')\"\n",
       "            title=\"Convert this dataframe to an interactive table.\"\n",
       "            style=\"display:none;\">\n",
       "\n",
       "  <svg xmlns=\"http://www.w3.org/2000/svg\" height=\"24px\" viewBox=\"0 -960 960 960\">\n",
       "    <path d=\"M120-120v-720h720v720H120Zm60-500h600v-160H180v160Zm220 220h160v-160H400v160Zm0 220h160v-160H400v160ZM180-400h160v-160H180v160Zm440 0h160v-160H620v160ZM180-180h160v-160H180v160Zm440 0h160v-160H620v160Z\"/>\n",
       "  </svg>\n",
       "    </button>\n",
       "\n",
       "  <style>\n",
       "    .colab-df-container {\n",
       "      display:flex;\n",
       "      gap: 12px;\n",
       "    }\n",
       "\n",
       "    .colab-df-convert {\n",
       "      background-color: #E8F0FE;\n",
       "      border: none;\n",
       "      border-radius: 50%;\n",
       "      cursor: pointer;\n",
       "      display: none;\n",
       "      fill: #1967D2;\n",
       "      height: 32px;\n",
       "      padding: 0 0 0 0;\n",
       "      width: 32px;\n",
       "    }\n",
       "\n",
       "    .colab-df-convert:hover {\n",
       "      background-color: #E2EBFA;\n",
       "      box-shadow: 0px 1px 2px rgba(60, 64, 67, 0.3), 0px 1px 3px 1px rgba(60, 64, 67, 0.15);\n",
       "      fill: #174EA6;\n",
       "    }\n",
       "\n",
       "    .colab-df-buttons div {\n",
       "      margin-bottom: 4px;\n",
       "    }\n",
       "\n",
       "    [theme=dark] .colab-df-convert {\n",
       "      background-color: #3B4455;\n",
       "      fill: #D2E3FC;\n",
       "    }\n",
       "\n",
       "    [theme=dark] .colab-df-convert:hover {\n",
       "      background-color: #434B5C;\n",
       "      box-shadow: 0px 1px 3px 1px rgba(0, 0, 0, 0.15);\n",
       "      filter: drop-shadow(0px 1px 2px rgba(0, 0, 0, 0.3));\n",
       "      fill: #FFFFFF;\n",
       "    }\n",
       "  </style>\n",
       "\n",
       "    <script>\n",
       "      const buttonEl =\n",
       "        document.querySelector('#df-fa9192a5-a6f1-4a20-9f00-46938884b97c button.colab-df-convert');\n",
       "      buttonEl.style.display =\n",
       "        google.colab.kernel.accessAllowed ? 'block' : 'none';\n",
       "\n",
       "      async function convertToInteractive(key) {\n",
       "        const element = document.querySelector('#df-fa9192a5-a6f1-4a20-9f00-46938884b97c');\n",
       "        const dataTable =\n",
       "          await google.colab.kernel.invokeFunction('convertToInteractive',\n",
       "                                                    [key], {});\n",
       "        if (!dataTable) return;\n",
       "\n",
       "        const docLinkHtml = 'Like what you see? Visit the ' +\n",
       "          '<a target=\"_blank\" href=https://colab.research.google.com/notebooks/data_table.ipynb>data table notebook</a>'\n",
       "          + ' to learn more about interactive tables.';\n",
       "        element.innerHTML = '';\n",
       "        dataTable['output_type'] = 'display_data';\n",
       "        await google.colab.output.renderOutput(dataTable, element);\n",
       "        const docLink = document.createElement('div');\n",
       "        docLink.innerHTML = docLinkHtml;\n",
       "        element.appendChild(docLink);\n",
       "      }\n",
       "    </script>\n",
       "  </div>\n",
       "\n",
       "\n",
       "  <div id=\"id_6e279835-a569-4dc6-a0af-904733e98fbc\">\n",
       "    <style>\n",
       "      .colab-df-generate {\n",
       "        background-color: #E8F0FE;\n",
       "        border: none;\n",
       "        border-radius: 50%;\n",
       "        cursor: pointer;\n",
       "        display: none;\n",
       "        fill: #1967D2;\n",
       "        height: 32px;\n",
       "        padding: 0 0 0 0;\n",
       "        width: 32px;\n",
       "      }\n",
       "\n",
       "      .colab-df-generate:hover {\n",
       "        background-color: #E2EBFA;\n",
       "        box-shadow: 0px 1px 2px rgba(60, 64, 67, 0.3), 0px 1px 3px 1px rgba(60, 64, 67, 0.15);\n",
       "        fill: #174EA6;\n",
       "      }\n",
       "\n",
       "      [theme=dark] .colab-df-generate {\n",
       "        background-color: #3B4455;\n",
       "        fill: #D2E3FC;\n",
       "      }\n",
       "\n",
       "      [theme=dark] .colab-df-generate:hover {\n",
       "        background-color: #434B5C;\n",
       "        box-shadow: 0px 1px 3px 1px rgba(0, 0, 0, 0.15);\n",
       "        filter: drop-shadow(0px 1px 2px rgba(0, 0, 0, 0.3));\n",
       "        fill: #FFFFFF;\n",
       "      }\n",
       "    </style>\n",
       "    <button class=\"colab-df-generate\" onclick=\"generateWithVariable('XTest')\"\n",
       "            title=\"Generate code using this dataframe.\"\n",
       "            style=\"display:none;\">\n",
       "\n",
       "  <svg xmlns=\"http://www.w3.org/2000/svg\" height=\"24px\"viewBox=\"0 0 24 24\"\n",
       "       width=\"24px\">\n",
       "    <path d=\"M7,19H8.4L18.45,9,17,7.55,7,17.6ZM5,21V16.75L18.45,3.32a2,2,0,0,1,2.83,0l1.4,1.43a1.91,1.91,0,0,1,.58,1.4,1.91,1.91,0,0,1-.58,1.4L9.25,21ZM18.45,9,17,7.55Zm-12,3A5.31,5.31,0,0,0,4.9,8.1,5.31,5.31,0,0,0,1,6.5,5.31,5.31,0,0,0,4.9,4.9,5.31,5.31,0,0,0,6.5,1,5.31,5.31,0,0,0,8.1,4.9,5.31,5.31,0,0,0,12,6.5,5.46,5.46,0,0,0,6.5,12Z\"/>\n",
       "  </svg>\n",
       "    </button>\n",
       "    <script>\n",
       "      (() => {\n",
       "      const buttonEl =\n",
       "        document.querySelector('#id_6e279835-a569-4dc6-a0af-904733e98fbc button.colab-df-generate');\n",
       "      buttonEl.style.display =\n",
       "        google.colab.kernel.accessAllowed ? 'block' : 'none';\n",
       "\n",
       "      buttonEl.onclick = () => {\n",
       "        google.colab.notebook.generateWithVariable('XTest');\n",
       "      }\n",
       "      })();\n",
       "    </script>\n",
       "  </div>\n",
       "\n",
       "    </div>\n",
       "  </div>\n"
      ],
      "text/plain": [
       "      Temperature  Soleil  Chaleur  Pluie\n",
       "1958         3000    1100       20    300"
      ]
     },
     "execution_count": 43,
     "metadata": {},
     "output_type": "execute_result"
    }
   ],
   "source": [
    "## Inidvidu supplémentaire\n",
    "XTest = pd.DataFrame({\"Temperature\" : 3000,\n",
    "\"Soleil\" : 1100,\n",
    "\"Chaleur\" : 20,\n",
    "\"Pluie\" : 300},index=[1958])\n",
    "XTest\n"
   ]
  },
  {
   "cell_type": "markdown",
   "metadata": {
    "id": "magDZuR8G8IB"
   },
   "source": [
    "\n",
    "\n",
    "  **Coordonnées factorielles**\n",
    "\n"
   ]
  },
  {
   "cell_type": "code",
   "execution_count": null,
   "metadata": {
    "colab": {
     "base_uri": "https://localhost:8080/"
    },
    "id": "nb5SLBw2TOhx",
    "outputId": "dcb3e2dc-df41-4440-8154-9c5de86ddb81"
   },
   "outputs": [
    {
     "name": "stdout",
     "output_type": "stream",
     "text": [
      "           LD1       LD2\n",
      "1958  2.027679 -0.569395\n"
     ]
    }
   ],
   "source": [
    "# Coordonées factorielles\n",
    "row_sup_coord = my_cda.transform(XTest)\n",
    "print(row_sup_coord)"
   ]
  },
  {
   "cell_type": "code",
   "execution_count": null,
   "metadata": {
    "colab": {
     "base_uri": "https://localhost:8080/",
     "height": 606
    },
    "id": "UvBFLnKpZKMd",
    "outputId": "8e8b6e8b-9974-4374-83eb-4045cff5037d"
   },
   "outputs": [
    {
     "data": {
      "image/png": "[encoded data removed]",
      "text/plain": [
       "<Figure size 1600x800 with 1 Axes>"
      ]
     },
     "metadata": {},
     "output_type": "display_data"
    }
   ],
   "source": [
    "# Votre code pour afficher le graphe\n",
    "fig, axe = plt.subplots(figsize=(16, 8))\n",
    "\n",
    "# Supposons que la fonction plotCANDISC prend en charge l'affichage des coordonnées factorielles\n",
    "# et prend en paramètre color pour spécifier la couleur des points\n",
    "plotCANDISC(my_cda, color=[\"blue\", '#5DC83F', 'red'], marker=['o', \"*\", '>'], ax=axe)\n",
    "\n",
    "# Afficher le point XTest avec une couleur différente\n",
    "axe.scatter(row_sup_coord[\"LD1\"], row_sup_coord[\"LD2\"], c='orange', marker='s', label='XTest')\n",
    "\n",
    "plt.legend()\n",
    "plt.show()"
   ]
  },
  {
   "cell_type": "markdown",
   "metadata": {
    "id": "2E2affRsHeq7"
   },
   "source": [
    "*   La fonction predict() permet de produire les prédictions à partir de la matrice des explicatives\n",
    "en test."
   ]
  },
  {
   "cell_type": "code",
   "execution_count": null,
   "metadata": {
    "colab": {
     "base_uri": "https://localhost:8080/"
    },
    "id": "qURRMA33T7uO",
    "outputId": "c09279dc-1d34-44e9-81ee-6c38bbf6102f"
   },
   "outputs": [
    {
     "name": "stdout",
     "output_type": "stream",
     "text": [
      "       predict\n",
      "1958  Mediocre\n"
     ]
    }
   ],
   "source": [
    "# Prédiction simple\n",
    "pred = my_cda.predict(XTest)\n",
    "print(pred)"
   ]
  },
  {
   "cell_type": "markdown",
   "metadata": {
    "id": "1gx1FOn6Unzp"
   },
   "source": [
    "**Fonctions de classement explicites**\n",
    "\n",
    "\n",
    "*   La classe CANDISC de scientisttools retourne les fonctions de décision issues de l’analyse factorielle discriminante. Pour celà, il faut spécifier l’argument « choice == \"score\".\n",
    "\n"
   ]
  },
  {
   "cell_type": "code",
   "execution_count": null,
   "metadata": {
    "colab": {
     "base_uri": "https://localhost:8080/"
    },
    "id": "DKj2y051Uefr",
    "outputId": "8e3a51cb-55ed-4f2b-807e-92a252e6e8f4"
   },
   "outputs": [
    {
     "name": "stdout",
     "output_type": "stream",
     "text": [
      "                   Bon   Mediocre     Moyen\n",
      "Temperature   0.018164  -0.017821  0.001277\n",
      "Soleil        0.012925  -0.015263  0.003726\n",
      "Chaleur      -0.022716   0.084484 -0.069449\n",
      "Pluie        -0.010768   0.013562 -0.004026\n",
      "Intercept   -72.590473  65.609287 -7.191833\n"
     ]
    }
   ],
   "source": [
    "# Fonctions de décision - AFD\n",
    "score_coef = get_candisc_coef(my_cda,choice = \"score\")\n",
    "print(score_coef)"
   ]
  },
  {
   "cell_type": "markdown",
   "metadata": {
    "id": "V6gSM_1jU9Om"
   },
   "source": [
    "**Prédiction des classes sur l’échantillon d’apprentissage**"
   ]
  },
  {
   "cell_type": "code",
   "execution_count": null,
   "metadata": {
    "id": "xuvCtgbRU-RM"
   },
   "outputs": [],
   "source": [
    "import numpy as np\n",
    "# Prédiction sur XTrain\n",
    "X = donnee[donnee.columns[1:-1]]"
   ]
  },
  {
   "cell_type": "code",
   "execution_count": null,
   "metadata": {
    "colab": {
     "base_uri": "https://localhost:8080/"
    },
    "id": "9J81298hVIfj",
    "outputId": "f2fe86bd-979f-4dd4-ef85-320ca5ad7888"
   },
   "outputs": [
    {
     "name": "stdout",
     "output_type": "stream",
     "text": [
      "(array(['Bon', 'Mediocre', 'Moyen'], dtype=object), array([11, 11, 12]))\n"
     ]
    }
   ],
   "source": [
    "y_pred = my_cda.predict(X)\n",
    "# Distribution des classes prédictes\n",
    "print(np.unique(y_pred,return_counts=True))"
   ]
  },
  {
   "cell_type": "markdown",
   "metadata": {
    "id": "HxieyqnfH5Wg"
   },
   "source": [
    "\n",
    "\n",
    "*   11 observations ont été prédite « Bon », 11 « Medicocre » et 12 « Moyen ».\n",
    "\n"
   ]
  },
  {
   "cell_type": "markdown",
   "metadata": {
    "id": "Zty9UgK8IPZn"
   },
   "source": [
    "\n",
    "\n",
    "*   La matrice de confusion est issue de la confrontation entre ces prédictions et les classes observées.\n",
    "Nous faisons appel au module « metrics » de la librairie « scikit-learn ».\n",
    "\n"
   ]
  },
  {
   "cell_type": "code",
   "execution_count": null,
   "metadata": {
    "colab": {
     "base_uri": "https://localhost:8080/",
     "height": 455
    },
    "id": "mobKl4MyFbbk",
    "outputId": "7c0c0466-cf76-43ff-e142-42b56cd8ac39"
   },
   "outputs": [
    {
     "data": {
      "image/png": "[encoded data removed]",
      "text/plain": [
       "<Figure size 640x480 with 2 Axes>"
      ]
     },
     "metadata": {},
     "output_type": "display_data"
    }
   ],
   "source": [
    "# Matrice de confusion\n",
    "from sklearn.metrics import confusion_matrix, ConfusionMatrixDisplay\n",
    "cm = confusion_matrix(donnee.Qualite,y_pred,labels=my_cda.classes_)\n",
    "disp = ConfusionMatrixDisplay(confusion_matrix=cm,\n",
    "display_labels=my_cda.classes_)\n",
    "disp.plot();\n",
    "plt.show()\n"
   ]
  },
  {
   "cell_type": "markdown",
   "metadata": {
    "id": "MuIF8U99QLyy"
   },
   "source": [
    "La diagonale principale de la matrice représente les prédictions correctes pour chaque classe (9 pour \"Bon\", 10 pour \"Médiocre\" et 8 pour \"Moyen\"). Les cellules en dehors de la diagonale montrent les classifications incorrectes."
   ]
  }
 ],
 "metadata": {
  "accelerator": "TPU",
  "colab": {
   "provenance": []
  },
  "kernelspec": {
   "display_name": "Python 3 (ipykernel)",
   "language": "python",
   "name": "python3"
  },
  "language_info": {
   "codemirror_mode": {
    "name": "ipython",
    "version": 3
   },
   "file_extension": ".py",
   "mimetype": "text/x-python",
   "name": "python",
   "nbconvert_exporter": "python",
   "pygments_lexer": "ipython3",
   "version": "3.11.5"
  }
 },
 "nbformat": 4,
 "nbformat_minor": 1
}
