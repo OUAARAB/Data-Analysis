{
 "cells": [
  {
   "cell_type": "markdown",
   "id": "5148a013-08d8-42d5-8107-5230313bf3be",
   "metadata": {},
   "source": [
    "# Atelier Test Statistique"
   ]
  },
  {
   "cell_type": "markdown",
   "id": "b9dfe577-e0c0-428a-a884-e28ee65df36d",
   "metadata": {},
   "source": [
    "### C'est quoi SciPy ?"
   ]
  },
  {
   "cell_type": "markdown",
   "id": "c32eb945-4428-4096-8b5d-4432aca9db3c",
   "metadata": {
    "jp-MarkdownHeadingCollapsed": true
   },
   "source": [
    "SciPy est une bibliothèque open-source en Python qui offre des outils et des fonctions pour résoudre un large éventail de problèmes scientifiques et techniques. Il s'appuie sur la bibliothèque NumPy et étend ses fonctionnalités en offrant des modules spécifiques pour l'optimisation, l'algèbre linéaire, l'intégration, la statistique, le traitement du signal, et bien plus encore. En ce qui concerne les tests statistiques, SciPy propose des fonctions pour effectuer des analyses statistiques, y compris le test t, qui permet de comparer des échantillons et de déterminer si des différences significatives existent."
   ]
  },
  {
   "cell_type": "markdown",
   "id": "306089c4-538d-4c68-9b5d-f2539db05511",
   "metadata": {},
   "source": [
    "### Utilisation de SciPy dans Jupyter Notebook"
   ]
  },
  {
   "cell_type": "markdown",
   "id": "5eeccb8e-4919-4d80-a9c8-c5be4e30f657",
   "metadata": {
    "jp-MarkdownHeadingCollapsed": true
   },
   "source": [
    "Pour intégrer SciPy dans votre environnement Jupyter Notebook, suivez ces étapes simples \n",
    "\n",
    "1. **Installation de SciPy :** Commencez par installer SciPy à l'aide de la commande `pip`. Vous pouvez exécuter cette commande dans une cellule de code de votre Jupyter Notebook comme ceci :\n",
    "\n",
    "   ```python\n",
    "   !pip install scipy\n"
   ]
  },
  {
   "cell_type": "markdown",
   "id": "e070fccd-eecd-4c71-b6fa-b1f9c1582916",
   "metadata": {},
   "source": [
    "Une fois que SciPy est installé, vous pouvez l'importer dans votre code Python :\n",
    "```python\n",
    "\n",
    "import scipy.stats as stats\n"
   ]
  },
  {
   "cell_type": "markdown",
   "id": "7e627060-7ec7-4298-a5c3-a24f73dc565a",
   "metadata": {},
   "source": [
    "### Verifier la normalite des donnees à l'aide d'un histogramme"
   ]
  },
  {
   "cell_type": "code",
   "execution_count": 55,
   "id": "e890a023-c72d-42ef-a857-79c635d76251",
   "metadata": {},
   "outputs": [
    {
     "data": {
      "image/png": "[encoded data removed]",
      "text/plain": [
       "<Figure size 640x480 with 1 Axes>"
      ]
     },
     "metadata": {},
     "output_type": "display_data"
    }
   ],
   "source": [
    "import numpy as np\n",
    "import matplotlib.pyplot as plt\n",
    "\n",
    "# Créez un ensemble de données (exemples)\n",
    "data = np.random.randn(1000)  # Créez un échantillon aléatoire de 1000 valeurs à partir d'une distribution normale\n",
    "\n",
    "# Tracez l'histogramme des données\n",
    "plt.hist(data, bins=30, density=True, alpha=0.6, color='b', edgecolor='black')\n",
    "# bins = 30 : cela signifie que vos données seront réparties en 30 intervalles.\n",
    "\n",
    "# Réglez le titre et les étiquettes des axes\n",
    "plt.title('Histogramme et Distribution Normale')\n",
    "plt.xlabel('Valeurs')\n",
    "plt.ylabel('Fréquence relative')\n",
    "\n",
    "# Affichez l'histogramme\n",
    "plt.show()\n",
    "\n"
   ]
  },
  {
   "cell_type": "markdown",
   "id": "2f004bd0-ea00-49b1-9317-613cb51461a1",
   "metadata": {},
   "source": [
    "### verifier la normalité avec Shapiro-Wilk"
   ]
  },
  {
   "cell_type": "code",
   "execution_count": 28,
   "id": "16f53485-49c3-4acc-ad5d-6a3b057de966",
   "metadata": {},
   "outputs": [
    {
     "name": "stdout",
     "output_type": "stream",
     "text": [
      "Les données semblent suivre une distribution normale (l'hypothèse nulle n'est pas rejetée).\n"
     ]
    }
   ],
   "source": [
    "from scipy.stats import shapiro\n",
    "\n",
    "# Votre échantillon de données\n",
    "data = [75, 82, 90, 88, 95, 78, 88, 72, 85, 92, 80, 76, 89, 94, 81, 86, 90, 83, 87, 93]\n",
    "\n",
    "# Effectuer le test de Shapiro-Wilk\n",
    "statistic, p_value = shapiro(data)\n",
    "\n",
    "# Interpréter les résultats\n",
    "alpha = 0.05  # Niveau de signification\n",
    "if p_value > alpha:\n",
    "    print(\"Les données semblent suivre une distribution normale (l'hypothèse nulle n'est pas rejetée).\")\n",
    "else:\n",
    "    print(\"Les données ne suivent pas une distribution normale (l'hypothèse nulle est rejetée).\")\n"
   ]
  },
  {
   "cell_type": "markdown",
   "id": "fc24ffc9-bcb6-41a8-af26-f04d9718e91a",
   "metadata": {},
   "source": [
    "# Tests Paramétriques"
   ]
  },
  {
   "cell_type": "markdown",
   "id": "065f5eb7-4e8d-442f-aab4-b26eadc176b3",
   "metadata": {},
   "source": [
    "## Test T Student"
   ]
  },
  {
   "cell_type": "markdown",
   "id": "92379904-b6dd-42d3-9725-901217410ee2",
   "metadata": {},
   "source": [
    "Pour effectuer un test t de Student pour échantillons indépendants, vous pouvez utiliser  `stats.ttest_ind()`.\n",
    "\n",
    "Pour effectuer un test t apparié, utilisez `stats.ttest_rel()`)\n",
    ".\n",
    "Pour effectuer un test t à un échantillon, utilise`stats.ttest_1samp`()."
   ]
  },
  {
   "cell_type": "markdown",
   "id": "5b85307c-0a50-4cd7-ac80-e13f2a6f9c3e",
   "metadata": {
    "jp-MarkdownHeadingCollapsed": true
   },
   "source": [
    "#### reponse"
   ]
  },
  {
   "cell_type": "code",
   "execution_count": 23,
   "id": "2fc7bdde-3fb7-4a80-be75-ecd33f02200b",
   "metadata": {},
   "outputs": [
    {
     "name": "stdout",
     "output_type": "stream",
     "text": [
      "Il n'y a pas de différence significative entre les groupes.\n"
     ]
    }
   ],
   "source": [
    "# example pour vous aider \n",
    "import scipy.stats as stats\n",
    "import matplotlib.pyplot as plt \n",
    "\n",
    "sample1 = [75, 82, 90, 88, 95]\n",
    "sample2 = [88, 91, 79, 72, 96]\n",
    "\n",
    "if p_value < 0.05:  # Niveau de signification de 0,05\n",
    "    print(\"Il y a une différence significative entre les groupes.\")\n",
    "else:\n",
    "    print(\"Il n'y a pas de différence significative entre les groupes.\")\n"
   ]
  },
  {
   "cell_type": "markdown",
   "id": "8e079af2-d21b-499c-9e82-15c6de05fa13",
   "metadata": {},
   "source": [
    "### 1. **Test t de Student pour échantillons indépendants**"
   ]
  },
  {
   "cell_type": "markdown",
   "id": "08e5f44e-f23c-4d89-99d9-98e9efe59a71",
   "metadata": {},
   "source": [
    "Une enseignante souhaite savoir si les résultats des examens de statistiques du semestre d'été diffèrent de ceux du semestre d'hiver. À cette fin, elle crée une vue d'ensemble des points obtenus par examen.​\n",
    "\n",
    "Existe-t-il une différence significative entre les résultats des examens du semestre d'été et du semestre d'hiver ?​"
   ]
  },
  {
   "cell_type": "markdown",
   "id": "4c94a28b-414e-47eb-a878-f13a74ead30b",
   "metadata": {},
   "source": [
    "Semestre d'été :  52, 61, 40, 46, 50, 56, 44, 47, 70, 40, 65, 38, 68"
   ]
  },
  {
   "cell_type": "markdown",
   "id": "4696e8e9-5e23-4f65-8cdf-10cf9e7c9249",
   "metadata": {},
   "source": [
    "Semestre d'hiver : 53, 71, 38, 34, 68, 68, 46, 41, 38, 23, 28"
   ]
  },
  {
   "cell_type": "code",
   "execution_count": 56,
   "id": "52d953ce-8eb1-4f0e-90c1-d8fbd2af3fab",
   "metadata": {},
   "outputs": [],
   "source": [
    "# votre code"
   ]
  },
  {
   "cell_type": "markdown",
   "id": "15149bfc-262d-4c16-996d-89caf5e240cb",
   "metadata": {},
   "source": [
    "### reponse"
   ]
  },
  {
   "cell_type": "code",
   "execution_count": 39,
   "id": "7c40fc2a-52e4-4de5-bd03-1fc928fe33f9",
   "metadata": {},
   "outputs": [],
   "source": [
    "# verifier normalite avec shapiro \n",
    "from scipy import stats\n",
    "\n",
    "\n",
    "def test_normalite(data): \n",
    "    t_stat , p_valeur = stats.shapiro(data)\n",
    "    print(\"la statistique de test de shapiro  : \" , t_stat)\n",
    "    print(\"la valeur p  : \" , p_valeur)\n",
    "\n",
    "    alpha = 0.05\n",
    "    if p_valeur < alpha:\n",
    "        print(\"les donnees ne suivent pas une distribution normale\")\n",
    "    else : \n",
    "        print(\"les donnees suivent une distribution normale\")\n",
    "\n",
    "    print(\"##################################\")\n"
   ]
  },
  {
   "cell_type": "code",
   "execution_count": 41,
   "id": "b44cdd7e-b324-4be8-97ea-506d34d47fe8",
   "metadata": {},
   "outputs": [
    {
     "name": "stdout",
     "output_type": "stream",
     "text": [
      "la statistique de test de shapiro  :  0.9261127710342407\n",
      "la valeur p  :  0.3028954863548279\n",
      "les donnees suivent une distribution normale\n",
      "##################################\n",
      "Statistique de test t : 1.035242823433093\n",
      "Valeur de p : 0.3118016575602077\n",
      "Il n'y a pas de différence significative entre les deux groupes.\n"
     ]
    }
   ],
   "source": [
    "from scipy import stats\n",
    "\n",
    "# Deux groupes de données\n",
    "groupe1 = [52, 61, 40, 46, 50, 56, 44, 47, 70, 40, 65, 38, 68]\n",
    "groupe2 = [53, 71, 38, 34, 68, 68, 46, 41, 38, 23, 28]\n",
    "\n",
    "test_normalite(groupe1)\n",
    "\n",
    "# Effectuer un test t non-apparié (test t de Student)\n",
    "t_stat, p_value = stats.ttest_ind(groupe1, groupe2)\n",
    "\n",
    "# Afficher le résultat du test\n",
    "print(\"Statistique de test t :\", t_stat)\n",
    "print(\"Valeur de p :\", p_value)\n",
    "\n",
    "# Interprétation du résultat\n",
    "alpha = 0.05  # Niveau de signification\n",
    "if p_value < alpha:\n",
    "    print(\"Il y a une différence significative entre les deux groupes.\")\n",
    "else:\n",
    "    print(\"Il n'y a pas de différence significative entre les deux groupes.\")\n"
   ]
  },
  {
   "cell_type": "markdown",
   "id": "c47fc453-d2d1-4528-b6f4-9d189fffae0c",
   "metadata": {},
   "source": [
    "### **2. Test t apparié (ou test t pour échantillons appariés) :**\r\n",
    "\n",
    "on examine si les vacances d'été ont un effet sur la condition physique des étudiants.​\r\n",
    "\r\n",
    "La question est donc la suivante : les vacances d'été ont-elles un effet sur la condition physique des étudiants en statistiques ? À cette fin, un test de condition physique est effectué une fois avant et une fois après les vacances pour 10 étudiants en statistiques.t-test."
   ]
  },
  {
   "cell_type": "markdown",
   "id": "2420f211-cd77-4427-a935-631ee30306e0",
   "metadata": {},
   "source": [
    "Avant les vaccances : 60, 70, 40, 41, 40, 40, 45, 48, 30, 50\n",
    "\n",
    "Après les vaccances : 61, 71, 38, 39, 38, 33, 55, 56, 38, 68"
   ]
  },
  {
   "cell_type": "code",
   "execution_count": 19,
   "id": "20dfdf94-0556-4ca2-8789-0ca8301a9360",
   "metadata": {},
   "outputs": [],
   "source": [
    "# votre code"
   ]
  },
  {
   "cell_type": "markdown",
   "id": "2cb35f8b-d2ea-45d2-9141-4224759caab0",
   "metadata": {
    "jp-MarkdownHeadingCollapsed": true
   },
   "source": [
    "#### reponse"
   ]
  },
  {
   "cell_type": "code",
   "execution_count": 22,
   "id": "9f9ee7ae-e758-4c5e-9fe5-f084dcba4257",
   "metadata": {},
   "outputs": [
    {
     "name": "stdout",
     "output_type": "stream",
     "text": [
      "Statistique de test t : 1.391608349947764\n",
      "Valeur de p : 0.19747335562857904\n",
      "Il n'y a pas de preuve significative que les vacances d'été ont un effet sur la condition physique des étudiants.\n"
     ]
    }
   ],
   "source": [
    "from scipy import stats\n",
    "\n",
    "# Les mesures avant les vacances\n",
    "avant_vacances = [60, 70, 40, 41, 40, 40, 45, 48, 30, 50]\n",
    "\n",
    "# Les mesures après les vacances\n",
    "apres_vacances = [61, 71, 38, 39, 38, 33, 55, 56, 38, 68]\n",
    "\n",
    "# Effectuer un test t apparié\n",
    "t_stat, p_value = stats.ttest_rel(apres_vacances,avant_vacances, alternative='two-sided')\n",
    "\n",
    "# Afficher le résultat du test\n",
    "print(\"Statistique de test t :\", t_stat)\n",
    "print(\"Valeur de p :\", p_value)\n",
    "\n",
    "# Interprétation du résultat\n",
    "alpha = 0.05  # Niveau de signification\n",
    "if p_value < alpha:\n",
    "    print(\"Les vacances d'été ont un effet significatif sur la condition physique des étudiants.\")\n",
    "else:\n",
    "    print(\"Il n'y a pas de preuve significative que les vacances d'été ont un effet sur la condition physique des étudiants.\")"
   ]
  },
  {
   "cell_type": "markdown",
   "id": "c5cc7710-f956-4bc7-83ea-3cdebd3fd148",
   "metadata": {},
   "source": [
    "### **3. Test t à un échantillon :**\r\n",
    "\r\n",
    "*Données :* nous examinons si un didacticiel de statistiques en ligne nouvellement introduit à l'université a un effet sur les résultats des étudiants aux examens.​\r\n",
    "\r\n",
    "La note moyenne à l'examen de statistiques dans une université est de 28 points depuis des années. Ce semestre, un nouveau cours de statistiques en ligne a été introduit. La direction du cours aimerait maintenant savoir si la réussite des études a changé depuis l'introduction du tutoriel de statistiques : le cours de statistiques en ligne a-t-il un effet positif sur les résultats aux examens\r\n",
    "\r\n",
    "​\r\n",
    "\r\n",
    "La population considérée est l'ensemble des étudiants qui ont passé l'examen de statistique depuis l'introduction du nouveau didacticiel de statistique. La valeur de référence à comparer est 28.\r\n",
    "\r\n",
    "**Resultat des étudiants** : [28, 29, 35, 37, 32, 26, 37, 39, 22, 29, 36, 38]"
   ]
  },
  {
   "cell_type": "code",
   "execution_count": 5,
   "id": "84f4a6d5-7074-41a6-9204-92052c0ec68f",
   "metadata": {},
   "outputs": [],
   "source": [
    "# votre code "
   ]
  },
  {
   "cell_type": "markdown",
   "id": "773f0841-3817-4786-84fc-a27e3df3ff74",
   "metadata": {
    "jp-MarkdownHeadingCollapsed": true
   },
   "source": [
    "#### reponse"
   ]
  },
  {
   "cell_type": "code",
   "execution_count": 18,
   "id": "56439926-13af-416a-ba6f-90007adf03ed",
   "metadata": {},
   "outputs": [
    {
     "name": "stdout",
     "output_type": "stream",
     "text": [
      "Statistique de test t : 2.746194120979329\n",
      "P-valeur : 0.00950982127665678\n",
      "La différence est statistiquement significative (rejeter l'hypothèse nulle)\n",
      "ce qui signifierait un effet positif du tutoriel en ligne sur les résultats des étudiants.\n"
     ]
    }
   ],
   "source": [
    "import scipy.stats as stats\n",
    "\n",
    "# Échantillon de données\n",
    "donnees = [28, 29, 35, 37, 32, 26, 37, 39, 22, 29, 36, 38]\n",
    "\n",
    "# Effectuer le test t\n",
    "t_statistique, p_valeur = stats.ttest_1samp(donnees, popmean=28,alternative='greater')  # 30 est la moyenne de référence\n",
    "\n",
    "# Afficher les résultats\n",
    "print(\"Statistique de test t :\", t_statistique)\n",
    "print(\"P-valeur :\", p_valeur)\n",
    "\n",
    "# Interprétation des résultats\n",
    "niveau_significatif = 0.05\n",
    "if p_valeur < niveau_significatif:\n",
    "    print(\"La différence est statistiquement significative (rejeter l'hypothèse nulle)\")\n",
    "    print(\"ce qui signifierait un effet positif du tutoriel en ligne sur les résultats des étudiants.\")\n",
    "else:\n",
    "    print(\"Il n'y a pas de preuve statistique pour rejeter l'hypothèse nulle.\")\n"
   ]
  },
  {
   "cell_type": "markdown",
   "id": "1b8c9657",
   "metadata": {
    "jp-MarkdownHeadingCollapsed": true
   },
   "source": [
    "## Test de fisher "
   ]
  },
  {
   "cell_type": "markdown",
   "id": "990cf328-c35a-46d4-b8fe-8ebe01ff4872",
   "metadata": {},
   "source": [
    "pour effectuer le test de fisher on utilise la fonction `f.ppf()`"
   ]
  },
  {
   "cell_type": "markdown",
   "id": "2a029db4",
   "metadata": {},
   "source": [
    "Une entreprise fabrique du fromage blanc qu'elle condionne en pots de 750 grammes.​\n",
    "\n",
    "Elle dispose pour cela de deux lignes de fabrication.​\n",
    "\n",
    "Sur la premiere ligne, on prélève un échantillon de 16 pots sur lequel l'écart-type des masses est de 2.3 g.​\n",
    "\n",
    "Sur la seconde ligne, on prélève un échantillon de 21 pots sur lequel l'écart-type des masses est de 1.4g.​\n",
    "\n",
    "Au vu de cet échantillon et au risque de 5% , peut-on affirmer que la variance des masses des pots de fromage blanc est la meme sur les deux lignes ?"
   ]
  },
  {
   "cell_type": "markdown",
   "id": "4dc71cc1-f392-4ad7-9616-501b57447ce3",
   "metadata": {
    "jp-MarkdownHeadingCollapsed": true
   },
   "source": [
    "### reponse"
   ]
  },
  {
   "cell_type": "code",
   "execution_count": 1,
   "id": "493777f9",
   "metadata": {},
   "outputs": [
    {
     "name": "stdout",
     "output_type": "stream",
     "text": [
      "On rejette l'hypothèse nulle.\n",
      "Les variances ne sont pas égales.\n",
      "Statistique F observée : 2.6989795918367347\n",
      "Valeur critique F à 95.0% de confiance : 2.573096141191661\n"
     ]
    }
   ],
   "source": [
    "## reponse \n",
    "import scipy.stats as stats\n",
    "\n",
    "# Données de l'échantillon A (première ligne de production)\n",
    "n1 = 16\n",
    "variance1 = 2.3 ** 2  # Écart-type au carré\n",
    "\n",
    "# Données de l'échantillon B (deuxième ligne de production)\n",
    "n2 = 21\n",
    "variance2 = 1.4 ** 2  # Écart-type au carré\n",
    "\n",
    "# Niveau de signification (alpha)\n",
    "alpha = 0.05\n",
    "\n",
    "# Calcul de la statistique F\n",
    "F = variance1 / variance2\n",
    "\n",
    "# Degrés de liberté pour le numérateur et le dénominateur\n",
    "df1 = n1 - 1\n",
    "df2 = n2 - 1\n",
    "\n",
    "# Calcul de la valeur critique F\n",
    "f_critical = stats.f.ppf(1 - alpha/2, df1, df2)\n",
    "\n",
    "# Test de Fisher-Snedecor\n",
    "if F > f_critical:\n",
    "    print(\"On rejette l'hypothèse nulle.\")\n",
    "    print(\"Les variances ne sont pas égales.\")\n",
    "else:\n",
    "    print(\"On ne rejette pas l'hypothèse nulle.\")\n",
    "    print(\"Les variances sont égales.\")\n",
    "\n",
    "print(\"Statistique F observée :\", F)\n",
    "print(\"Valeur critique F à {}% de confiance : {}\".format((1-alpha)*100, f_critical))\n"
   ]
  },
  {
   "cell_type": "markdown",
   "id": "8e4f313c-a625-467f-894c-364f53561b61",
   "metadata": {},
   "source": [
    "# Test non parametrique\n"
   ]
  },
  {
   "cell_type": "markdown",
   "id": "2757d558-7669-4e44-a9a7-16778f300690",
   "metadata": {
    "jp-MarkdownHeadingCollapsed": true
   },
   "source": [
    "## Test de Wilcoxon (test des rangs signés)"
   ]
  },
  {
   "cell_type": "markdown",
   "id": "0fa13e16-359b-4a1b-95fe-b747df49ffb1",
   "metadata": {},
   "source": [
    "Pour effectuer un test des rangs signés de Wilcoxon , vous pouvez utiliser wilcoxon(alternative=\"\").\n",
    "\n",
    "alternative=\"greater\" : Cela teste si l'échantillon 1 est statistiquement supérieur à l'échantillon 2.\n",
    "\n",
    "alternative=\"less\" : Cela teste si l'échantillon 1 est statistiquement inférieur à l'échantillon 2.\n",
    "\n",
    "alternative=\"two-sided\" : Cela teste si les échantillons sont statistiquement différents l'un de l'autre (soit supérieur, soit inférieur).\n",
    "\n"
   ]
  },
  {
   "cell_type": "markdown",
   "id": "a74c6f50-8103-40b9-9fc5-2ab902a38276",
   "metadata": {},
   "source": [
    "**Exercice** :\n",
    "On dispose 13 clônes de Peuplier dont on a mesuré la concentation en Aluminium dans le bois (μg/g) a deux instants différents (Août et Novembre) au sein d’une zone polluée.\n",
    "Données :\n",
    "\n",
    "Août : [8.1, 10.0,16.5, 13.6, 9.5, 8.3, 18.3, 13.3, 7.9, 8.1,8.9,12.6,13.4]\n",
    "\n",
    "Novembre : [11.2,16.3, 15.3, 15.6, 10.5, 15.5,12.7,11.1,19.9,20.4,14.2 , 12.7 , 36.8]\n",
    "\n",
    "peut-on observer entre Août (A) et Novembre (N) une différence de concentration en Aluminium dans le bois de Peuplier?\n"
   ]
  },
  {
   "cell_type": "code",
   "execution_count": 58,
   "id": "622c69ed-87d6-4a08-aa10-709447488ab8",
   "metadata": {},
   "outputs": [],
   "source": [
    "# votre code "
   ]
  },
  {
   "cell_type": "markdown",
   "id": "ead9f105-abf2-4569-abba-1b6468d926f9",
   "metadata": {
    "jp-MarkdownHeadingCollapsed": true
   },
   "source": [
    "#### reponse"
   ]
  },
  {
   "cell_type": "code",
   "execution_count": 57,
   "id": "7233a511-67b2-4ecc-acc9-4d2eb3bd12cb",
   "metadata": {},
   "outputs": [
    {
     "name": "stdout",
     "output_type": "stream",
     "text": [
      "Statistique de test de Wilcoxon signé : 16.0\n",
      "Valeur de p : 0.039794921875\n",
      "Il y a une différence significative de concentration en aluminium entre août et novembre dans le bois de peupliers (p < 0.05)\n"
     ]
    }
   ],
   "source": [
    "import scipy.stats as stats\n",
    "\n",
    "août = [8.1, 10.0, 16.5, 13.6, 9.5, 8.3, 18.3, 13.3, 7.9, 8.1, 8.9, 12.6, 13.4]\n",
    "novembre = [11.2, 16.3, 15.3, 15.6, 10.5, 15.5, 12.7, 11.1, 19.9, 20.4, 14.2, 12.7, 36.8]\n",
    "\n",
    "# Effectuer le test de Wilcoxon signé pour échantillons appariés\n",
    "statistic, p_value = stats.wilcoxon(août, novembre,alternative=\"two-sided\")\n",
    "\n",
    "# Niveau de signification (alpha) généralement choisi à 0,05\n",
    "alpha = 0.05\n",
    "\n",
    "# Afficher les résultats\n",
    "print(\"Statistique de test de Wilcoxon signé :\", statistic)\n",
    "print(\"Valeur de p :\", p_value)\n",
    "\n",
    "if p_value < alpha:\n",
    "    print(\"Il y a une différence significative de concentration en aluminium entre août et novembre dans le bois de peupliers (p < 0.05)\")\n",
    "else:\n",
    "    print(\"Il n'y a pas de preuve significative d'une différence de concentration en aluminium entre août et novembre dans le bois de peupliers (p >= 0.05)\")"
   ]
  },
  {
   "cell_type": "markdown",
   "id": "3251698f-c9f5-495d-9e7c-4d10ec771f77",
   "metadata": {
    "jp-MarkdownHeadingCollapsed": true
   },
   "source": [
    "## Test U de Mann-Whitney"
   ]
  },
  {
   "cell_type": "code",
   "execution_count": null,
   "id": "3741b192-7b21-4014-8912-e29d08e6d3d2",
   "metadata": {},
   "outputs": [],
   "source": []
  },
  {
   "cell_type": "markdown",
   "id": "353e36ff-2714-422a-9264-4676dd167341",
   "metadata": {},
   "source": [
    "Pour effectuer un test de Mann-Whitney pour échantillons indépendants, vous pouvez utiliser mannwhitneyu(groupe_a,groupe_b,alternative=\"\").\n",
    "\n",
    "alternative=\"greater\" : Cela teste si l'échantillon 1 est statistiquement supérieur à l'échantillon 2.\n",
    "\n",
    "alternative=\"less\" : Cela teste si l'échantillon 1 est statistiquement inférieur à l'échantillon 2.\n",
    "\n",
    "alternative=\"two-sided\" : Cela teste si les échantillons sont statistiquement différents l'un de l'autre (soit supérieur, soit inférieur).\n"
   ]
  },
  {
   "cell_type": "markdown",
   "id": "14639144-4354-4b4c-b3c7-fe9b1c4c1285",
   "metadata": {},
   "source": [
    "**Exercice :**\n",
    "Contexte :\n",
    "On dispose de deux échantillons (mâles et femelles) de Souris, dont on a mesuré le poids (g) chez l’individu adulte\n",
    "\n",
    "Données :\n",
    "\n",
    "femelle : [24, 30, 30,30, 38, 40]\n",
    "\n",
    "mâle : [20, 24, 26, 28]\n",
    "\n",
    "Le poids de souris mâles (M) est-il superieur de celle des souris femelles(F) ?"
   ]
  },
  {
   "cell_type": "code",
   "execution_count": 60,
   "id": "13d18ea1-503c-496a-987d-2f1052f1e44a",
   "metadata": {},
   "outputs": [],
   "source": [
    "# votre code"
   ]
  },
  {
   "cell_type": "markdown",
   "id": "63da132b-fdc9-408f-ad7f-7b5817bbbee6",
   "metadata": {},
   "source": [
    "#### reponse"
   ]
  },
  {
   "cell_type": "code",
   "execution_count": 59,
   "id": "7c527c43-ca56-4dbb-a46a-b796bbf77bf0",
   "metadata": {},
   "outputs": [
    {
     "name": "stdout",
     "output_type": "stream",
     "text": [
      "Statistique de test de Mann-Whitney : 2.5\n",
      "Valeur de p : 0.9848085890117113\n",
      "Il n'y a pas de preuve significative que le poids des souris mâles soit supérieur à celui des souris femelles (p >= 0.05)\n"
     ]
    }
   ],
   "source": [
    "import scipy.stats as stats\n",
    "\n",
    "femelle = [24, 30, 30, 30, 38, 40]\n",
    "mâle = [20, 24, 26, 28]\n",
    "\n",
    "# Effectuer le test de Mann-Whitney\n",
    "statistic, p_value = stats.mannwhitneyu(mâle,femelle, alternative='greater')\n",
    "\n",
    "# Niveau de signification (alpha) généralement choisi à 0,05\n",
    "alpha = 0.05\n",
    "\n",
    "# Afficher les résultats\n",
    "print(\"Statistique de test de Mann-Whitney :\", statistic)\n",
    "print(\"Valeur de p :\", p_value)\n",
    "\n",
    "if p_value < alpha:\n",
    "    print(\"Le poids des souris mâles est significativement supérieur à celui des souris  femelles  (p < 0.05)\")\n",
    "else:\n",
    "    print(\"Il n'y a pas de preuve significative que le poids des souris mâles soit supérieur à celui des souris femelles (p >= 0.05)\")"
   ]
  },
  {
   "cell_type": "markdown",
   "id": "8b333ea8-a59e-41fd-b491-fb442f45a001",
   "metadata": {},
   "source": [
    "## Test Chi-carré"
   ]
  },
  {
   "cell_type": "markdown",
   "id": "7ab92f8d-d3f8-47da-ae5d-e640b2fe0240",
   "metadata": {},
   "source": [
    " pour effectuer le test du chi carré Utilisez la fonction `chi2_contingency()`\n",
    " \n",
    "  Voici un exemple complet :"
   ]
  },
  {
   "cell_type": "code",
   "execution_count": 61,
   "id": "20e40941-343d-4664-81fb-1f21a2301400",
   "metadata": {},
   "outputs": [
    {
     "name": "stdout",
     "output_type": "stream",
     "text": [
      "les fréquences attendus:  [[40.90909091 34.09090909]\n",
      " [19.09090909 15.90909091]]\n",
      "la statistique:  2.179396825396826\n",
      "la valeur p:  0.13986926923049087\n",
      "degré de liberté:  1\n",
      "Hypothèse nulle acceptée. Aucune relation significative entre les catégories.\n"
     ]
    }
   ],
   "source": [
    "import scipy.stats as stats\n",
    "\n",
    "observed_data = [[45, 30],\n",
    "                [15, 20]]\n",
    "\n",
    "chi2, p, dof, expected = stats.chi2_contingency(observed_data)\n",
    "\n",
    "print(\"les fréquences attendus: \",expected)\n",
    "print(\"la statistique: \",chi2)\n",
    "print(\"la valeur p: \",p)\n",
    "print(\"degré de liberté: \",dof)\n",
    "\n",
    "alpha = 0.05\n",
    "if p < alpha:\n",
    "    print(\"Hypothèse nulle rejetée. Il y a une relation significative entre les catégories.\")\n",
    "else:\n",
    "    print(\"Hypothèse nulle acceptée. Aucune relation significative entre les catégories.\")\n"
   ]
  },
  {
   "cell_type": "markdown",
   "id": "9e0ff5c9-8285-4bbf-a796-3bbf591c3e37",
   "metadata": {},
   "source": [
    "**chi2** est la statistique du test du chi carré.\n",
    "\n",
    "**p** est la p-valeur du test.\n",
    "\n",
    "**dof** est le nombre de degrés de liberté\n",
    "\n",
    "**expected** est un tableau contenant les fréquences attendues."
   ]
  },
  {
   "cell_type": "markdown",
   "id": "0bd35d60-4d48-4e63-8912-2983af0a6cde",
   "metadata": {},
   "source": [
    "### Exercice: test d’indépendance du chi carré en Python"
   ]
  },
  {
   "cell_type": "markdown",
   "id": "683df6c4-9f7b-49a2-ba98-2c1bec348a0c",
   "metadata": {},
   "source": [
    "Supposons que nous collectons des données pour 600 personnes dans notre cinéma. Pour chaque personne, nous connaissons le type de film visionné et l'achat éventuel de snacks.\n",
    "\n"
   ]
  },
  {
   "cell_type": "markdown",
   "id": "d77a6905-7546-4b00-9584-898e5f0d6d64",
   "metadata": {},
   "source": [
    "| Type de film | snack | pas de snack |\n",
    "|:-------:|:-------:|:------:|\n",
    "| Action | 50 |75 |\n",
    "| Comédie | 125 |175 |\n",
    "| Familial | 90 | 30 |\n",
    "| Horreur | 45 | 10 |"
   ]
  },
  {
   "cell_type": "markdown",
   "id": "bd4e0f3a-ccaf-44f4-b146-e6ad41b79ff1",
   "metadata": {},
   "source": [
    "**Question :** Existe-t-il une corrélation entre le type de film et les achats de snacks ? "
   ]
  },
  {
   "cell_type": "code",
   "execution_count": null,
   "id": "cd641562-2b2d-4f81-9625-88bf0040416d",
   "metadata": {},
   "outputs": [],
   "source": [
    "# votre code "
   ]
  },
  {
   "cell_type": "code",
   "execution_count": null,
   "id": "601ff5b4-0844-4ef3-9b80-0cba55b71696",
   "metadata": {},
   "outputs": [],
   "source": []
  },
  {
   "cell_type": "code",
   "execution_count": null,
   "id": "2aff3f41-a2f1-4559-8386-a3192cb05820",
   "metadata": {},
   "outputs": [],
   "source": []
  }
 ],
 "metadata": {
  "kernelspec": {
   "display_name": "Python 3 (ipykernel)",
   "language": "python",
   "name": "python3"
  },
  "language_info": {
   "codemirror_mode": {
    "name": "ipython",
    "version": 3
   },
   "file_extension": ".py",
   "mimetype": "text/x-python",
   "name": "python",
   "nbconvert_exporter": "python",
   "pygments_lexer": "ipython3",
   "version": "3.12.0"
  }
 },
 "nbformat": 4,
 "nbformat_minor": 5
}
